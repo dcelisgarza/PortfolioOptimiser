{
 "cells": [
  {
   "cell_type": "markdown",
   "metadata": {},
   "source": [
    "# PortfolioOptimiser.jl\n",
    "\n",
    "This is a demo/template for using `PortfolioOptimiser.jl`. It should be all that you need to start to use and adapt the library to your needs."
   ]
  },
  {
   "cell_type": "markdown",
   "metadata": {},
   "source": [
    "## Loading data\n",
    "\n",
    "All our functions take AbstractArray or Tuple arguments, not DataFrame or TimeArray data. The reason is to keep the code as generic and performant as possible. Julia is fast enough that it can be used in performance critical applications, so we remove the data wrangling from the equation, and we leave it up to the user to decide how they want to handle their data.\n",
    "\n",
    "For the example we'll use CSV and DataFrames to load our historical prices."
   ]
  },
  {
   "cell_type": "code",
   "execution_count": 3,
   "metadata": {},
   "outputs": [
    {
     "data": {
      "text/html": [
       "<div class=\"data-frame\"><p>896 rows × 21 columns (omitted printing of 12 columns)</p><table class=\"data-frame\"><thead><tr><th></th><th>date</th><th>GOOG</th><th>AAPL</th><th>FB</th><th>BABA</th><th>AMZN</th><th>GE</th><th>AMD</th><th>WMT</th></tr><tr><th></th><th title=\"Dates.Date\">Date</th><th title=\"Float64\">Float64</th><th title=\"Float64\">Float64</th><th title=\"Float64\">Float64</th><th title=\"Float64\">Float64</th><th title=\"Float64\">Float64</th><th title=\"Float64\">Float64</th><th title=\"Float64\">Float64</th><th title=\"Float64\">Float64</th></tr></thead><tbody><tr><th>1</th><td>2014-09-19</td><td>592.82</td><td>94.7721</td><td>77.91</td><td>93.89</td><td>331.32</td><td>23.421</td><td>3.81</td><td>70.0099</td></tr><tr><th>2</th><td>2014-09-22</td><td>584.158</td><td>94.866</td><td>76.8</td><td>89.89</td><td>324.5</td><td>23.2339</td><td>3.76</td><td>69.527</td></tr><tr><th>3</th><td>2014-09-23</td><td>577.952</td><td>96.3492</td><td>78.29</td><td>87.17</td><td>323.63</td><td>23.1805</td><td>3.69</td><td>68.8801</td></tr><tr><th>4</th><td>2014-09-24</td><td>584.775</td><td>95.5137</td><td>78.54</td><td>90.57</td><td>328.21</td><td>23.1003</td><td>3.7</td><td>70.2286</td></tr><tr><th>5</th><td>2014-09-25</td><td>571.915</td><td>91.8715</td><td>77.22</td><td>88.92</td><td>321.93</td><td>22.7618</td><td>3.63</td><td>69.3539</td></tr><tr><th>6</th><td>2014-09-26</td><td>573.944</td><td>94.575</td><td>78.79</td><td>90.46</td><td>323.21</td><td>22.833</td><td>3.6</td><td>69.691</td></tr><tr><th>7</th><td>2014-09-29</td><td>573.208</td><td>93.9743</td><td>79.0</td><td>88.75</td><td>321.82</td><td>22.646</td><td>3.55</td><td>69.3175</td></tr><tr><th>8</th><td>2014-09-30</td><td>574.203</td><td>94.575</td><td>79.04</td><td>88.85</td><td>322.44</td><td>22.8241</td><td>3.41</td><td>69.6728</td></tr><tr><th>9</th><td>2014-10-01</td><td>565.162</td><td>93.1013</td><td>76.55</td><td>86.1</td><td>317.46</td><td>22.4143</td><td>3.35</td><td>69.3539</td></tr><tr><th>10</th><td>2014-10-02</td><td>566.963</td><td>93.7771</td><td>77.08</td><td>87.06</td><td>318.41</td><td>22.3787</td><td>3.39</td><td>69.4541</td></tr><tr><th>11</th><td>2014-10-03</td><td>572.134</td><td>93.5143</td><td>77.44</td><td>88.1</td><td>322.74</td><td>22.6281</td><td>3.4</td><td>70.4472</td></tr><tr><th>12</th><td>2014-10-06</td><td>574.193</td><td>93.5143</td><td>77.56</td><td>88.31</td><td>322.2</td><td>22.4678</td><td>3.36</td><td>70.4746</td></tr><tr><th>13</th><td>2014-10-07</td><td>560.657</td><td>92.6976</td><td>76.29</td><td>87.67</td><td>316.98</td><td>22.1025</td><td>3.28</td><td>70.429</td></tr><tr><th>14</th><td>2014-10-08</td><td>569.369</td><td>94.622</td><td>77.52</td><td>88.3</td><td>322.7</td><td>22.4945</td><td>3.28</td><td>71.2855</td></tr><tr><th>15</th><td>2014-10-09</td><td>557.813</td><td>94.8285</td><td>75.91</td><td>88.79</td><td>315.37</td><td>22.0758</td><td>2.95</td><td>70.9392</td></tr><tr><th>16</th><td>2014-10-10</td><td>541.512</td><td>94.5563</td><td>72.91</td><td>85.88</td><td>311.39</td><td>21.6215</td><td>2.72</td><td>71.331</td></tr><tr><th>17</th><td>2014-10-13</td><td>530.294</td><td>93.6926</td><td>72.99</td><td>85.12</td><td>306.45</td><td>21.3364</td><td>2.74</td><td>70.6659</td></tr><tr><th>18</th><td>2014-10-14</td><td>534.998</td><td>92.6976</td><td>73.59</td><td>84.95</td><td>308.31</td><td>21.47</td><td>2.62</td><td>71.0486</td></tr><tr><th>19</th><td>2014-10-15</td><td>527.132</td><td>91.5618</td><td>73.21</td><td>85.6</td><td>305.97</td><td>21.6304</td><td>2.61</td><td>68.5157</td></tr><tr><th>20</th><td>2014-10-16</td><td>521.642</td><td>90.3602</td><td>72.63</td><td>88.85</td><td>302.86</td><td>21.6036</td><td>2.64</td><td>67.2583</td></tr><tr><th>21</th><td>2014-10-17</td><td>508.375</td><td>91.6838</td><td>75.95</td><td>87.91</td><td>303.64</td><td>22.1114</td><td>2.72</td><td>67.5135</td></tr><tr><th>22</th><td>2014-10-20</td><td>517.992</td><td>93.6457</td><td>76.95</td><td>88.26</td><td>306.21</td><td>22.2985</td><td>2.67</td><td>68.461</td></tr><tr><th>23</th><td>2014-10-21</td><td>523.661</td><td>96.1896</td><td>78.69</td><td>90.9</td><td>315.33</td><td>22.6727</td><td>2.77</td><td>69.2628</td></tr><tr><th>24</th><td>2014-10-22</td><td>529.797</td><td>96.6777</td><td>78.37</td><td>91.63</td><td>312.97</td><td>22.4411</td><td>2.64</td><td>69.2719</td></tr><tr><th>&vellip;</th><td>&vellip;</td><td>&vellip;</td><td>&vellip;</td><td>&vellip;</td><td>&vellip;</td><td>&vellip;</td><td>&vellip;</td><td>&vellip;</td><td>&vellip;</td></tr></tbody></table></div>"
      ],
      "text/latex": [
       "\\begin{tabular}{r|cccccccccc}\n",
       "\t& date & GOOG & AAPL & FB & BABA & AMZN & GE & AMD & WMT & \\\\\n",
       "\t\\hline\n",
       "\t& Date & Float64 & Float64 & Float64 & Float64 & Float64 & Float64 & Float64 & Float64 & \\\\\n",
       "\t\\hline\n",
       "\t1 & 2014-09-19 & 592.82 & 94.7721 & 77.91 & 93.89 & 331.32 & 23.421 & 3.81 & 70.0099 & $\\dots$ \\\\\n",
       "\t2 & 2014-09-22 & 584.158 & 94.866 & 76.8 & 89.89 & 324.5 & 23.2339 & 3.76 & 69.527 & $\\dots$ \\\\\n",
       "\t3 & 2014-09-23 & 577.952 & 96.3492 & 78.29 & 87.17 & 323.63 & 23.1805 & 3.69 & 68.8801 & $\\dots$ \\\\\n",
       "\t4 & 2014-09-24 & 584.775 & 95.5137 & 78.54 & 90.57 & 328.21 & 23.1003 & 3.7 & 70.2286 & $\\dots$ \\\\\n",
       "\t5 & 2014-09-25 & 571.915 & 91.8715 & 77.22 & 88.92 & 321.93 & 22.7618 & 3.63 & 69.3539 & $\\dots$ \\\\\n",
       "\t6 & 2014-09-26 & 573.944 & 94.575 & 78.79 & 90.46 & 323.21 & 22.833 & 3.6 & 69.691 & $\\dots$ \\\\\n",
       "\t7 & 2014-09-29 & 573.208 & 93.9743 & 79.0 & 88.75 & 321.82 & 22.646 & 3.55 & 69.3175 & $\\dots$ \\\\\n",
       "\t8 & 2014-09-30 & 574.203 & 94.575 & 79.04 & 88.85 & 322.44 & 22.8241 & 3.41 & 69.6728 & $\\dots$ \\\\\n",
       "\t9 & 2014-10-01 & 565.162 & 93.1013 & 76.55 & 86.1 & 317.46 & 22.4143 & 3.35 & 69.3539 & $\\dots$ \\\\\n",
       "\t10 & 2014-10-02 & 566.963 & 93.7771 & 77.08 & 87.06 & 318.41 & 22.3787 & 3.39 & 69.4541 & $\\dots$ \\\\\n",
       "\t11 & 2014-10-03 & 572.134 & 93.5143 & 77.44 & 88.1 & 322.74 & 22.6281 & 3.4 & 70.4472 & $\\dots$ \\\\\n",
       "\t12 & 2014-10-06 & 574.193 & 93.5143 & 77.56 & 88.31 & 322.2 & 22.4678 & 3.36 & 70.4746 & $\\dots$ \\\\\n",
       "\t13 & 2014-10-07 & 560.657 & 92.6976 & 76.29 & 87.67 & 316.98 & 22.1025 & 3.28 & 70.429 & $\\dots$ \\\\\n",
       "\t14 & 2014-10-08 & 569.369 & 94.622 & 77.52 & 88.3 & 322.7 & 22.4945 & 3.28 & 71.2855 & $\\dots$ \\\\\n",
       "\t15 & 2014-10-09 & 557.813 & 94.8285 & 75.91 & 88.79 & 315.37 & 22.0758 & 2.95 & 70.9392 & $\\dots$ \\\\\n",
       "\t16 & 2014-10-10 & 541.512 & 94.5563 & 72.91 & 85.88 & 311.39 & 21.6215 & 2.72 & 71.331 & $\\dots$ \\\\\n",
       "\t17 & 2014-10-13 & 530.294 & 93.6926 & 72.99 & 85.12 & 306.45 & 21.3364 & 2.74 & 70.6659 & $\\dots$ \\\\\n",
       "\t18 & 2014-10-14 & 534.998 & 92.6976 & 73.59 & 84.95 & 308.31 & 21.47 & 2.62 & 71.0486 & $\\dots$ \\\\\n",
       "\t19 & 2014-10-15 & 527.132 & 91.5618 & 73.21 & 85.6 & 305.97 & 21.6304 & 2.61 & 68.5157 & $\\dots$ \\\\\n",
       "\t20 & 2014-10-16 & 521.642 & 90.3602 & 72.63 & 88.85 & 302.86 & 21.6036 & 2.64 & 67.2583 & $\\dots$ \\\\\n",
       "\t21 & 2014-10-17 & 508.375 & 91.6838 & 75.95 & 87.91 & 303.64 & 22.1114 & 2.72 & 67.5135 & $\\dots$ \\\\\n",
       "\t22 & 2014-10-20 & 517.992 & 93.6457 & 76.95 & 88.26 & 306.21 & 22.2985 & 2.67 & 68.461 & $\\dots$ \\\\\n",
       "\t23 & 2014-10-21 & 523.661 & 96.1896 & 78.69 & 90.9 & 315.33 & 22.6727 & 2.77 & 69.2628 & $\\dots$ \\\\\n",
       "\t24 & 2014-10-22 & 529.797 & 96.6777 & 78.37 & 91.63 & 312.97 & 22.4411 & 2.64 & 69.2719 & $\\dots$ \\\\\n",
       "\t$\\dots$ & $\\dots$ & $\\dots$ & $\\dots$ & $\\dots$ & $\\dots$ & $\\dots$ & $\\dots$ & $\\dots$ & $\\dots$ &  \\\\\n",
       "\\end{tabular}\n"
      ],
      "text/plain": [
       "\u001b[1m896×21 DataFrame\u001b[0m\n",
       "\u001b[1m Row \u001b[0m│\u001b[1m date       \u001b[0m\u001b[1m GOOG     \u001b[0m\u001b[1m AAPL     \u001b[0m\u001b[1m FB      \u001b[0m\u001b[1m BABA    \u001b[0m\u001b[1m AMZN    \u001b[0m\u001b[1m GE      \u001b[0m\u001b[1m AMD\u001b[0m ⋯\n",
       "\u001b[1m     \u001b[0m│\u001b[90m Date       \u001b[0m\u001b[90m Float64  \u001b[0m\u001b[90m Float64  \u001b[0m\u001b[90m Float64 \u001b[0m\u001b[90m Float64 \u001b[0m\u001b[90m Float64 \u001b[0m\u001b[90m Float64 \u001b[0m\u001b[90m Flo\u001b[0m ⋯\n",
       "─────┼──────────────────────────────────────────────────────────────────────────\n",
       "   1 │ 2014-09-19   592.82    94.7721    77.91    93.89   331.32  23.421       ⋯\n",
       "   2 │ 2014-09-22   584.158   94.866     76.8     89.89   324.5   23.2339\n",
       "   3 │ 2014-09-23   577.952   96.3492    78.29    87.17   323.63  23.1805\n",
       "   4 │ 2014-09-24   584.775   95.5137    78.54    90.57   328.21  23.1003\n",
       "   5 │ 2014-09-25   571.915   91.8715    77.22    88.92   321.93  22.7618      ⋯\n",
       "   6 │ 2014-09-26   573.944   94.575     78.79    90.46   323.21  22.833\n",
       "   7 │ 2014-09-29   573.208   93.9743    79.0     88.75   321.82  22.646\n",
       "   8 │ 2014-09-30   574.203   94.575     79.04    88.85   322.44  22.8241\n",
       "  ⋮  │     ⋮          ⋮         ⋮         ⋮        ⋮        ⋮        ⋮         ⋱\n",
       " 890 │ 2018-04-03  1013.41   168.39     156.11   174.67  1392.05  13.13        ⋯\n",
       " 891 │ 2018-04-04  1025.14   171.61     155.1    172.07  1410.57  13.28\n",
       " 892 │ 2018-04-05  1027.81   172.8      159.34   172.57  1451.75  13.43      1\n",
       " 893 │ 2018-04-06  1007.04   168.38     157.2    167.52  1405.23  13.06\n",
       " 894 │ 2018-04-09  1015.45   170.05     157.93   169.87  1406.08  12.83        ⋯\n",
       " 895 │ 2018-04-10  1031.64   173.25     165.04   177.1   1436.22  13.05\n",
       " 896 │ 2018-04-11  1019.97   172.44     166.32   175.36  1427.05  12.97\n",
       "\u001b[36m                                                 14 columns and 881 rows omitted\u001b[0m"
      ]
     },
     "metadata": {},
     "output_type": "display_data"
    }
   ],
   "source": [
    "using PortfolioOptimiser\n",
    "using CSV, DataFrames\n",
    "\n",
    "hist_prices = CSV.read(\"./assets/stock_prices.csv\", DataFrame)\n",
    "dropmissing!(hist_prices)"
   ]
  },
  {
   "cell_type": "markdown",
   "metadata": {},
   "source": [
    "## Expected returns\n",
    "\n",
    "`PortfolioOptimiser.jl` calculates a variety of returns and expected returns. First we have to load the data. In this case, we load daily stock data pertaining to a variety of different tickers into a DataFrame."
   ]
  },
  {
   "cell_type": "markdown",
   "metadata": {},
   "source": [
    "The price data is pretty useless until we want to allocate our portfolio, what we really need is return data. We can do so "
   ]
  },
  {
   "cell_type": "code",
   "execution_count": null,
   "metadata": {},
   "outputs": [],
   "source": [
    "returns = returns_from_prices(df[!, 2:end])"
   ]
  }
 ],
 "metadata": {
  "kernelspec": {
   "display_name": "Julia 1.7.2",
   "language": "julia",
   "name": "julia-1.7"
  },
  "language_info": {
   "file_extension": ".jl",
   "mimetype": "application/julia",
   "name": "julia",
   "version": "1.7.2"
  },
  "orig_nbformat": 4
 },
 "nbformat": 4,
 "nbformat_minor": 2
}
