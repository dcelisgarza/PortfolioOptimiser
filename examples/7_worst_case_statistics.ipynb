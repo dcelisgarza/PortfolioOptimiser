{
 "cells": [
  {
   "cell_type": "markdown",
   "source": [
    "# Example 7: Worst case statistics\n",
    "\n",
    "This example follows from previous ones. If something in the preamble is confusing, it is explained there.\n",
    "\n",
    "This example focuses on the `wc_statistics!` used in the `WC` optimisation type of `Portfolio`.\n",
    "\n",
    "## 7.1 Downloading the data"
   ],
   "metadata": {}
  },
  {
   "outputs": [],
   "cell_type": "code",
   "source": [
    "# using Pkg\n",
    "# Pkg.add.([\"StatsPlots\", \"GraphRecipes\", \"YFinance\", \"Clarabel\", \"HiGHS\", \"CovarianceEstimation\", \"SparseArrays\"])\n",
    "using Clarabel, CovarianceEstimation, DataFrames, Dates, GraphRecipes, HiGHS, YFinance,\n",
    "      PortfolioOptimiser, Statistics, StatsBase, StatsPlots, TimeSeries, LinearAlgebra,\n",
    "      PrettyTables, Random\n",
    "\n",
    "fmt1 = (v, i, j) -> begin\n",
    "    if j == 1\n",
    "        return v\n",
    "    else\n",
    "        return if isa(v, Number)\n",
    "            \"$(round(v*100, digits=3)) %\"\n",
    "        else\n",
    "            v\n",
    "        end\n",
    "    end\n",
    "end;\n",
    "\n",
    "function stock_price_to_time_array(x)\n",
    "    coln = collect(keys(x))[3:end] # only get the keys that are not ticker or datetime\n",
    "    m = hcat([x[k] for k ∈ coln]...) #Convert the dictionary into a matrix\n",
    "    return TimeArray(x[\"timestamp\"], m, Symbol.(coln), x[\"ticker\"])\n",
    "end\n",
    "assets = [\"AAL\", \"AAPL\", \"AMC\", \"BB\", \"BBY\", \"DELL\", \"DG\", \"DRS\", \"GME\", \"INTC\", \"LULU\",\n",
    "          \"MARA\", \"MCI\", \"MSFT\", \"NKLA\", \"NVAX\", \"NVDA\", \"PARA\", \"PLNT\", \"SAVE\", \"SBUX\",\n",
    "          \"SIRI\", \"STX\", \"TLRY\", \"TSLA\"]\n",
    "Date_0 = \"2019-01-01\"\n",
    "Date_1 = \"2023-01-01\"\n",
    "prices = get_prices.(assets; startdt = Date_0, enddt = Date_1)\n",
    "prices = stock_price_to_time_array.(prices)\n",
    "prices = hcat(prices...)\n",
    "cidx = colnames(prices)[occursin.(r\"adj\", string.(colnames(prices)))]\n",
    "prices = prices[cidx]\n",
    "TimeSeries.rename!(prices, Symbol.(assets));"
   ],
   "metadata": {},
   "execution_count": 1
  },
  {
   "cell_type": "markdown",
   "source": [
    "## 7.2 Instantiating an instance of `Portfolio`.\n",
    "\n",
    "We'll compute basic statistics for this."
   ],
   "metadata": {}
  },
  {
   "outputs": [],
   "cell_type": "code",
   "source": [
    "portfolio = Portfolio(; prices = prices,\n",
    "                      # Continuous optimiser.\n",
    "                      solvers = Dict(:Clarabel => Dict(:solver => Clarabel.Optimizer,\n",
    "                                                       :check_sol => (allow_local = true,\n",
    "                                                                      allow_almost = true),\n",
    "                                                       :params => Dict(\"verbose\" => false))),\n",
    "                      # MIP optimiser for the discrete allocation.\n",
    "                      alloc_solvers = Dict(:HiGHS => Dict(:solver => HiGHS.Optimizer,\n",
    "                                                          :check_sol => (allow_local = true,\n",
    "                                                                         allow_almost = true),\n",
    "                                                          :params => Dict(\"log_to_console\" => false))));\n",
    "\n",
    "asset_statistics!(portfolio)"
   ],
   "metadata": {},
   "execution_count": 2
  },
  {
   "cell_type": "markdown",
   "source": [
    "## 7.3 Effect of the Worst Case Mean Variance statistics\n",
    "\n",
    "The previous tutorial showed how to perform worst case mean variance optimisations. This one goes into more detail on computing the uncertainty sets needed for this optimisation type.\n",
    "\n",
    "The function in charge of doing so is `wc_statistics!` via the `WCType` type. Consult the docs for details.\n",
    "\n",
    "There are a lot of combinations for this, so we will not be showing an exhaustive list. We will explore a representative subset. Since we used the default values for our previous tutorial we will explore a few of the other options.\n",
    "\n",
    "We'll first use the default statistics for computing the optimised worst case mean variance portfolio."
   ],
   "metadata": {}
  },
  {
   "outputs": [],
   "cell_type": "code",
   "source": [
    "# Set random seed for reproducible results.\n",
    "Random.seed!(123)\n",
    "wc_statistics!(portfolio)"
   ],
   "metadata": {},
   "execution_count": 3
  },
  {
   "cell_type": "markdown",
   "source": [
    "We'll use the box set for the expected returns vector and the elliptical set for the covariance matrix. We'll maximise the risk-adjusted return ratio."
   ],
   "metadata": {}
  },
  {
   "outputs": [],
   "cell_type": "code",
   "source": [
    "type = WC(; mu = Box(), cov = Ellipse())\n",
    "obj = Sharpe(3.5 / 100 / 252)\n",
    "w1 = optimise!(portfolio; type = type, obj = obj);"
   ],
   "metadata": {},
   "execution_count": 4
  },
  {
   "cell_type": "markdown",
   "source": [
    "`WCType` can produce a wealth of uncertainty sets depending on the user provided parameters. You can experiment by changing the values of `wc` and computing the statistics again.\n",
    "\n",
    "We'll now use a completely different set of parameters for computing the worst case statistics, but we will optimise the same problem."
   ],
   "metadata": {}
  },
  {
   "outputs": [
    {
     "name": "stdout",
     "output_type": "stream",
     "text": [
      "┌─────────┬──────────┬──────────┐\n",
      "│ tickers │       w1 │       w2 │\n",
      "│  String │  Float64 │  Float64 │\n",
      "├─────────┼──────────┼──────────┤\n",
      "│     AAL │  0.053 % │  0.027 % │\n",
      "│    AAPL │ 89.981 % │ 93.969 % │\n",
      "│     AMC │   0.04 % │  0.021 % │\n",
      "│      BB │  0.057 % │  0.029 % │\n",
      "│     BBY │  0.193 % │  0.087 % │\n",
      "│    DELL │   0.21 % │  0.094 % │\n",
      "│      DG │  1.087 % │  0.356 % │\n",
      "│     DRS │  0.759 % │  0.283 % │\n",
      "│     GME │  0.632 % │  0.227 % │\n",
      "│    INTC │  0.083 % │   0.04 % │\n",
      "│    LULU │  0.395 % │  0.171 % │\n",
      "│    MARA │  0.161 % │  0.075 % │\n",
      "│     MCI │  0.182 % │  0.082 % │\n",
      "│    MSFT │  0.708 % │  0.276 % │\n",
      "│    NKLA │   0.04 % │  0.021 % │\n",
      "│    NVAX │  0.051 % │  0.027 % │\n",
      "│    NVDA │   1.15 % │  0.394 % │\n",
      "│    PARA │  0.058 % │  0.029 % │\n",
      "│    PLNT │  0.136 % │  0.064 % │\n",
      "│    SAVE │   0.05 % │  0.026 % │\n",
      "│    SBUX │  0.255 % │  0.112 % │\n",
      "│    SIRI │  0.151 % │  0.068 % │\n",
      "│     STX │  0.194 % │  0.087 % │\n",
      "│    TLRY │  0.025 % │  0.014 % │\n",
      "│    TSLA │  3.349 % │  3.423 % │\n",
      "└─────────┴──────────┴──────────┘\n"
     ]
    }
   ],
   "cell_type": "code",
   "source": [
    "wc = WCType(; cov_type = PortCovCor(; ce = CorGerber1(; normalise = true)),\n",
    "            mu_type = MuBOP(), box = NormalWC(), ellipse = ArchWC(), k_sigma = KNormalWC(),\n",
    "            k_mu = KGeneralWC(), diagonal = false)\n",
    "wc_statistics!(portfolio, wc)\n",
    "w2 = optimise!(portfolio; type = type, obj = obj)\n",
    "\n",
    "pretty_table(DataFrame(; tickers = w1.tickers, w1 = w1.weights, w2 = w2.weights);\n",
    "             formatters = fmt1)"
   ],
   "metadata": {},
   "execution_count": 5
  },
  {
   "cell_type": "markdown",
   "source": [
    "When compared to the previous tutorial, the takeaway here is that the type of uncertainty set used has much more of an impact on the results of the optimisation 6.4 Optimising the portfolio than the parameters used to compute the worst case sets. However, more robust statistics will produce more robust uncertainty sets."
   ],
   "metadata": {}
  },
  {
   "cell_type": "markdown",
   "source": [
    "---\n",
    "\n",
    "*This notebook was generated using [Literate.jl](https://github.com/fredrikekre/Literate.jl).*"
   ],
   "metadata": {}
  }
 ],
 "nbformat_minor": 3,
 "metadata": {
  "language_info": {
   "file_extension": ".jl",
   "mimetype": "application/julia",
   "name": "julia",
   "version": "1.11.1"
  },
  "kernelspec": {
   "name": "julia-1.11",
   "display_name": "Julia 1.11.1",
   "language": "julia"
  }
 },
 "nbformat": 4
}
