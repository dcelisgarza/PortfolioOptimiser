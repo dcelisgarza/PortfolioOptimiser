{
 "cells": [
  {
   "cell_type": "markdown",
   "source": [
    "# Example 6: Worst case Mean-Variance\n",
    "\n",
    "This example follows from previous ones. If something in the preamble is confusing, it is explained there.\n",
    "\n",
    "This example focuses on the `WC` optimisation type of `Portfolio`.\n",
    "\n",
    "## 6.1 Downloading the data"
   ],
   "metadata": {}
  },
  {
   "outputs": [],
   "cell_type": "code",
   "source": [
    "# using Pkg\n",
    "# Pkg.add.([\"StatsPlots\", \"GraphRecipes\", \"YFinance\", \"Clarabel\", \"HiGHS\", \"CovarianceEstimation\", \"SparseArrays\"])\n",
    "using Clarabel, CovarianceEstimation, DataFrames, Dates, GraphRecipes, HiGHS, YFinance,\n",
    "      PortfolioOptimiser, Statistics, StatsBase, StatsPlots, TimeSeries, LinearAlgebra,\n",
    "      PrettyTables, Random\n",
    "\n",
    "fmt1 = (v, i, j) -> begin\n",
    "    if j == 1\n",
    "        return v\n",
    "    else\n",
    "        return if isa(v, Number)\n",
    "            \"$(round(v*100, digits=3)) %\"\n",
    "        else\n",
    "            v\n",
    "        end\n",
    "    end\n",
    "end;\n",
    "\n",
    "function stock_price_to_time_array(x)\n",
    "    coln = collect(keys(x))[3:end] # only get the keys that are not ticker or datetime\n",
    "    m = hcat([x[k] for k ∈ coln]...) #Convert the dictionary into a matrix\n",
    "    return TimeArray(x[\"timestamp\"], m, Symbol.(coln), x[\"ticker\"])\n",
    "end\n",
    "assets = [\"AAL\", \"AAPL\", \"AMC\", \"BB\", \"BBY\", \"DELL\", \"DG\", \"DRS\", \"GME\", \"INTC\", \"LULU\",\n",
    "          \"MARA\", \"MCI\", \"MSFT\", \"NKLA\", \"NVAX\", \"NVDA\", \"PARA\", \"PLNT\", \"SAVE\", \"SBUX\",\n",
    "          \"SIRI\", \"STX\", \"TLRY\", \"TSLA\"]\n",
    "Date_0 = \"2019-01-01\"\n",
    "Date_1 = \"2023-01-01\"\n",
    "prices = get_prices.(assets; startdt = Date_0, enddt = Date_1)\n",
    "prices = stock_price_to_time_array.(prices)\n",
    "prices = hcat(prices...)\n",
    "cidx = colnames(prices)[occursin.(r\"adj\", string.(colnames(prices)))]\n",
    "prices = prices[cidx]\n",
    "TimeSeries.rename!(prices, Symbol.(assets));"
   ],
   "metadata": {},
   "execution_count": 1
  },
  {
   "cell_type": "markdown",
   "source": [
    "## 6.2 Instantiating an instance of `Portfolio`.\n",
    "\n",
    "We'll compute basic statistics for this."
   ],
   "metadata": {}
  },
  {
   "outputs": [],
   "cell_type": "code",
   "source": [
    "portfolio = Portfolio(; prices = prices,\n",
    "                      # Continuous optimiser.\n",
    "                      solvers = Dict(:Clarabel => Dict(:solver => Clarabel.Optimizer,\n",
    "                                                       :check_sol => (allow_local = true,\n",
    "                                                                      allow_almost = true),\n",
    "                                                       :params => Dict(\"verbose\" => false))),\n",
    "                      # MIP optimiser for the discrete allocation.\n",
    "                      alloc_solvers = Dict(:HiGHS => Dict(:solver => HiGHS.Optimizer,\n",
    "                                                          :check_sol => (allow_local = true,\n",
    "                                                                         allow_almost = true),\n",
    "                                                          :params => Dict(\"log_to_console\" => false))));\n",
    "\n",
    "asset_statistics!(portfolio)"
   ],
   "metadata": {},
   "execution_count": 2
  },
  {
   "cell_type": "markdown",
   "source": [
    "## 6.3 Worst case statistics\n",
    "\n",
    "In order to perform a worst case mean variance optimisation we need to compute uncertainty sets for the expected returns vector and covariance matrix. We can do this via `wc_statistics!`.\n",
    "\n",
    "For the purposes of this tutorial we'll use the defaults. We will explore the other options one can sue for computing the uncertainty sets in a subsequent tutorial."
   ],
   "metadata": {}
  },
  {
   "outputs": [],
   "cell_type": "code",
   "source": [
    "# Set random seed for reproducible results.\n",
    "Random.seed!(123)\n",
    "wc_statistics!(portfolio)"
   ],
   "metadata": {},
   "execution_count": 3
  },
  {
   "cell_type": "markdown",
   "source": [
    "## 6.4 Optimising the portfolio\n",
    "\n",
    "Having computed our worst case statistics, we can optimise the portfolio. The `WC` struct defines which set types to use in the worst case mean variance optimisation. `WC` defaults to using `Box` constraints for both the expected returns vector and covariance matrix.\n",
    "\n",
    "User-provided risk measures have no effect on this type of optimisation will only perform a mean variance optimisation with uncertainty sets.\n",
    "\n",
    "This type of optimisation can take any `PortfolioOptimiser.ObjectiveFunction`."
   ],
   "metadata": {}
  },
  {
   "outputs": [
    {
     "name": "stdout",
     "output_type": "stream",
     "text": [
      "┌─────────┬──────────┬───────────┬───────────┬─────────────┐\n",
      "│ tickers │  box_box │ ellip_box │ box_ellip │ ellip_ellip │\n",
      "│  String │  Float64 │   Float64 │   Float64 │     Float64 │\n",
      "├─────────┼──────────┼───────────┼───────────┼─────────────┤\n",
      "│     AAL │  0.017 % │    1.54 % │   0.054 % │     0.939 % │\n",
      "│    AAPL │ 93.787 % │   4.152 % │  89.893 % │     4.514 % │\n",
      "│     AMC │  0.014 % │    0.64 % │    0.04 % │      0.39 % │\n",
      "│      BB │  0.018 % │   1.895 % │   0.058 % │     1.941 % │\n",
      "│     BBY │  0.041 % │    2.86 % │   0.195 % │     1.552 % │\n",
      "│    DELL │  0.043 % │   3.506 % │   0.212 % │     3.398 % │\n",
      "│      DG │  0.274 % │  21.268 % │   1.098 % │    19.099 % │\n",
      "│     DRS │  0.164 % │   3.752 % │   0.766 % │     4.741 % │\n",
      "│     GME │  0.125 % │   0.965 % │   0.638 % │     0.534 % │\n",
      "│    INTC │  0.023 % │   3.435 % │   0.084 % │     2.921 % │\n",
      "│    LULU │  0.075 % │   2.775 % │   0.398 % │     1.548 % │\n",
      "│    MARA │  0.038 % │   0.461 % │   0.163 % │     0.451 % │\n",
      "│     MCI │  0.038 % │  18.304 % │   0.184 % │     18.24 % │\n",
      "│    MSFT │  0.145 % │   4.786 % │   0.715 % │     5.399 % │\n",
      "│    NKLA │  0.014 % │   1.963 % │    0.04 % │     2.301 % │\n",
      "│    NVAX │  0.017 % │   1.521 % │   0.052 % │     1.279 % │\n",
      "│    NVDA │  0.329 % │   1.001 % │   1.161 % │     1.598 % │\n",
      "│    PARA │  0.018 % │   2.193 % │   0.058 % │     1.276 % │\n",
      "│    PLNT │  0.033 % │   1.803 % │   0.138 % │     0.479 % │\n",
      "│    SAVE │  0.016 % │    0.96 % │    0.05 % │     1.158 % │\n",
      "│    SBUX │  0.049 % │   5.746 % │   0.257 % │     8.267 % │\n",
      "│    SIRI │  0.032 % │    7.85 % │   0.146 % │    11.827 % │\n",
      "│     STX │  0.041 % │   4.288 % │   0.196 % │     5.285 % │\n",
      "│    TLRY │   0.01 % │   1.023 % │   0.025 % │     0.767 % │\n",
      "│    TSLA │  4.641 % │   1.313 % │    3.38 % │     0.099 % │\n",
      "└─────────┴──────────┴───────────┴───────────┴─────────────┘\n"
     ]
    }
   ],
   "cell_type": "code",
   "source": [
    "# User-provided risk measures have no effect.\n",
    "rm = CVaR()\n",
    "# Worst case mean-variance optimisation using default set types.\n",
    "type = WC()\n",
    "# We'll maximise the risk-adjusted return ratio.\n",
    "obj = Sharpe(; rf = 3.5 / 100 / 252)\n",
    "\n",
    "# Box uncertainty set for the expected returns vector and covariance matrix.\n",
    "w1 = optimise!(portfolio; type = type, rm = rm, obj = obj)\n",
    "\n",
    "# Ellipse uncertainty set for the expected returns vector and box uncertainty set for the covariance matrix.\n",
    "type.mu = Ellipse()\n",
    "w2 = optimise!(portfolio; type = type, rm = rm, obj = obj)\n",
    "\n",
    "# Box uncertainty set for the expected returns vector and ellipse uncertainty set for the covariance matrix.\n",
    "type.mu = Box()\n",
    "type.cov = Ellipse()\n",
    "w3 = optimise!(portfolio; type = type, rm = rm, obj = obj)\n",
    "\n",
    "# Ellipse uncertainty set for the expected returns vector and ellipse uncertainty set for the covariance matrix.\n",
    "type.mu = Ellipse()\n",
    "w4 = optimise!(portfolio; type = type, rm = rm, obj = obj)\n",
    "\n",
    "pretty_table(DataFrame(; tickers = w1.tickers, box_box = w1.weights, ellip_box = w2.weights,\n",
    "                       box_ellip = w3.weights, ellip_ellip = w4.weights); formatters = fmt1)"
   ],
   "metadata": {},
   "execution_count": 4
  },
  {
   "cell_type": "markdown",
   "source": [
    "As you can see, the type of constraint used can have a large impact on the results of the optimisation. This is accentuated by the fact that we maximised the risk-adjusted return ratio. We'll now minimise the risk, on which the uncertainty set for the expected returns vector has a smaller impact."
   ],
   "metadata": {}
  },
  {
   "outputs": [
    {
     "name": "stdout",
     "output_type": "stream",
     "text": [
      "┌─────────┬──────────┬───────────┬───────────┬─────────────┐\n",
      "│ tickers │  box_box │ ellip_box │ box_ellip │ ellip_ellip │\n",
      "│  String │  Float64 │   Float64 │   Float64 │     Float64 │\n",
      "├─────────┼──────────┼───────────┼───────────┼─────────────┤\n",
      "│     AAL │    0.0 % │     0.0 % │     0.0 % │       0.0 % │\n",
      "│    AAPL │  0.002 % │     0.0 % │     0.0 % │     0.001 % │\n",
      "│     AMC │    0.0 % │     0.0 % │     0.0 % │       0.0 % │\n",
      "│      BB │    0.0 % │     0.0 % │     0.0 % │       0.0 % │\n",
      "│     BBY │    0.0 % │     0.0 % │     0.0 % │       0.0 % │\n",
      "│    DELL │    0.0 % │     0.0 % │     0.0 % │       0.0 % │\n",
      "│      DG │  39.78 % │  39.765 % │  38.924 % │    38.925 % │\n",
      "│     DRS │  0.982 % │   0.981 % │   2.369 % │     2.369 % │\n",
      "│     GME │    0.0 % │     0.0 % │     0.0 % │       0.0 % │\n",
      "│    INTC │    0.0 % │     0.0 % │     0.0 % │       0.0 % │\n",
      "│    LULU │    0.0 % │     0.0 % │     0.0 % │       0.0 % │\n",
      "│    MARA │    0.0 % │     0.0 % │     0.0 % │       0.0 % │\n",
      "│     MCI │ 30.778 % │  30.783 % │  30.631 % │    30.631 % │\n",
      "│    MSFT │  1.215 % │   1.225 % │   0.513 % │     0.514 % │\n",
      "│    NKLA │    0.0 % │     0.0 % │   0.844 % │     0.844 % │\n",
      "│    NVAX │    0.0 % │     0.0 % │     0.0 % │       0.0 % │\n",
      "│    NVDA │    0.0 % │     0.0 % │     0.0 % │       0.0 % │\n",
      "│    PARA │    0.0 % │     0.0 % │     0.0 % │       0.0 % │\n",
      "│    PLNT │    0.0 % │     0.0 % │     0.0 % │       0.0 % │\n",
      "│    SAVE │    0.0 % │     0.0 % │     0.0 % │       0.0 % │\n",
      "│    SBUX │   8.68 % │   8.684 % │   8.289 % │     8.288 % │\n",
      "│    SIRI │  16.07 % │  16.073 % │  14.752 % │    14.752 % │\n",
      "│     STX │  2.493 % │   2.488 % │   3.678 % │     3.677 % │\n",
      "│    TLRY │    0.0 % │     0.0 % │     0.0 % │       0.0 % │\n",
      "│    TSLA │    0.0 % │     0.0 % │     0.0 % │       0.0 % │\n",
      "└─────────┴──────────┴───────────┴───────────┴─────────────┘\n"
     ]
    }
   ],
   "cell_type": "code",
   "source": [
    "type = WC()\n",
    "# We'll maximise the risk-adjusted return ratio.\n",
    "obj = MinRisk()\n",
    "\n",
    "# Box uncertainty set for the expected returns vector and covariance matrix.\n",
    "w5 = optimise!(portfolio; type = type, rm = rm, obj = obj)\n",
    "\n",
    "# Ellipse uncertainty set for the expected returns vector and box uncertainty set for the covariance matrix.\n",
    "type.mu = Ellipse()\n",
    "w6 = optimise!(portfolio; type = type, rm = rm, obj = obj)\n",
    "\n",
    "# Box uncertainty set for the expected returns vector and ellipse uncertainty set for the covariance matrix.\n",
    "type.mu = Box()\n",
    "type.cov = Ellipse()\n",
    "w7 = optimise!(portfolio; type = type, rm = rm, obj = obj)\n",
    "\n",
    "# Ellipse uncertainty set for the expected returns vector and ellipse uncertainty set for the covariance matrix.\n",
    "type.mu = Ellipse()\n",
    "w8 = optimise!(portfolio; type = type, rm = rm, obj = obj)\n",
    "\n",
    "pretty_table(DataFrame(; tickers = w5.tickers, box_box = w5.weights, ellip_box = w6.weights,\n",
    "                       box_ellip = w7.weights, ellip_ellip = w8.weights); formatters = fmt1)"
   ],
   "metadata": {},
   "execution_count": 5
  },
  {
   "cell_type": "markdown",
   "source": [
    "It's also posible to disable the worst set constraint for the expected returns vector and covariance matrix independently. We'll disable them both and see that we recover the traditional mean variance optimisation."
   ],
   "metadata": {}
  },
  {
   "outputs": [
    {
     "name": "stdout",
     "output_type": "stream",
     "text": [
      "┌─────────┬───────────┬───────────┬─────────────┬─────────────┐\n",
      "│ tickers │ nowc_risk │ trad_risk │ nowc_sharpe │ trad_sharpe │\n",
      "│  String │   Float64 │   Float64 │     Float64 │     Float64 │\n",
      "├─────────┼───────────┼───────────┼─────────────┼─────────────┤\n",
      "│     AAL │     0.0 % │     0.0 % │       0.0 % │       0.0 % │\n",
      "│    AAPL │   0.011 % │   0.011 % │    16.266 % │     16.26 % │\n",
      "│     AMC │     0.0 % │     0.0 % │       0.0 % │       0.0 % │\n",
      "│      BB │   0.002 % │   0.002 % │       0.0 % │       0.0 % │\n",
      "│     BBY │     0.0 % │     0.0 % │       0.0 % │       0.0 % │\n",
      "│    DELL │     0.0 % │     0.0 % │       0.0 % │       0.0 % │\n",
      "│      DG │  38.924 % │  38.924 % │    40.262 % │    40.251 % │\n",
      "│     DRS │   2.369 % │   2.369 % │    17.995 % │    17.998 % │\n",
      "│     GME │     0.0 % │     0.0 % │     9.794 % │     9.796 % │\n",
      "│    INTC │     0.0 % │     0.0 % │       0.0 % │       0.0 % │\n",
      "│    LULU │     0.0 % │     0.0 % │       0.0 % │       0.0 % │\n",
      "│    MARA │     0.0 % │     0.0 % │      4.75 % │     4.752 % │\n",
      "│     MCI │  30.631 % │  30.631 % │       0.0 % │       0.0 % │\n",
      "│    MSFT │   0.505 % │   0.505 % │       0.0 % │       0.0 % │\n",
      "│    NKLA │   0.844 % │   0.844 % │       0.0 % │       0.0 % │\n",
      "│    NVAX │   0.001 % │   0.001 % │     0.435 % │     0.444 % │\n",
      "│    NVDA │     0.0 % │     0.0 % │     0.001 % │       0.0 % │\n",
      "│    PARA │     0.0 % │     0.0 % │       0.0 % │       0.0 % │\n",
      "│    PLNT │     0.0 % │     0.0 % │       0.0 % │       0.0 % │\n",
      "│    SAVE │     0.0 % │     0.0 % │       0.0 % │       0.0 % │\n",
      "│    SBUX │   8.287 % │   8.287 % │       0.0 % │       0.0 % │\n",
      "│    SIRI │   14.75 % │   14.75 % │       0.0 % │       0.0 % │\n",
      "│     STX │   3.676 % │   3.676 % │       0.0 % │       0.0 % │\n",
      "│    TLRY │     0.0 % │     0.0 % │       0.0 % │       0.0 % │\n",
      "│    TSLA │     0.0 % │     0.0 % │    10.496 % │    10.499 % │\n",
      "└─────────┴───────────┴───────────┴─────────────┴─────────────┘\n"
     ]
    }
   ],
   "cell_type": "code",
   "source": [
    "type = WC(; mu = NoWC(), cov = NoWC())\n",
    "\n",
    "obj = MinRisk()\n",
    "w9 = optimise!(portfolio; type = type, obj = obj)\n",
    "w10 = optimise!(portfolio; type = Trad(), obj = obj)\n",
    "\n",
    "obj = Sharpe(; rf = 3.5 / 100 / 252)\n",
    "w11 = optimise!(portfolio; type = type, obj = obj)\n",
    "w12 = optimise!(portfolio; type = Trad(), obj = obj)\n",
    "\n",
    "pretty_table(DataFrame(; tickers = w9.tickers, nowc_risk = w9.weights,\n",
    "                       trad_risk = w10.weights, nowc_sharpe = w11.weights,\n",
    "                       trad_sharpe = w12.weights); formatters = fmt1)"
   ],
   "metadata": {},
   "execution_count": 6
  },
  {
   "cell_type": "markdown",
   "source": [
    "We don't recover the weights of the sharpe ratio exactly because one of the risk-adjusted return constraints is slightly relaxed with respect to the traditional optimisation."
   ],
   "metadata": {}
  },
  {
   "cell_type": "markdown",
   "source": [
    "---\n",
    "\n",
    "*This notebook was generated using [Literate.jl](https://github.com/fredrikekre/Literate.jl).*"
   ],
   "metadata": {}
  }
 ],
 "nbformat_minor": 3,
 "metadata": {
  "language_info": {
   "file_extension": ".jl",
   "mimetype": "application/julia",
   "name": "julia",
   "version": "1.11.1"
  },
  "kernelspec": {
   "name": "julia-1.11",
   "display_name": "Julia 1.11.1",
   "language": "julia"
  }
 },
 "nbformat": 4
}
