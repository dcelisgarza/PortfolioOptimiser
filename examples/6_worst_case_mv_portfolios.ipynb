{
 "cells": [
  {
   "cell_type": "markdown",
   "source": [
    "# Example 6: Worst case Mean-Variance\n",
    "\n",
    "This example follows from previous ones. If something in the preamble is confusing, it is explained there.\n",
    "\n",
    "This example focuses on the `WC` optimisation type of `Portfolio`.\n",
    "\n",
    "## 6.1 Downloading the data"
   ],
   "metadata": {}
  },
  {
   "outputs": [],
   "cell_type": "code",
   "source": [
    "# using Pkg\n",
    "# Pkg.add.([\"StatsPlots\", \"GraphRecipes\", \"YFinance\", \"Clarabel\", \"HiGHS\", \"CovarianceEstimation\", \"SparseArrays\"])\n",
    "using Clarabel, CovarianceEstimation, DataFrames, Dates, GraphRecipes, HiGHS, YFinance,\n",
    "      PortfolioOptimiser, Statistics, StatsBase, StatsPlots, TimeSeries, LinearAlgebra,\n",
    "      PrettyTables, Random\n",
    "\n",
    "fmt1 = (v, i, j) -> begin\n",
    "    if j == 1\n",
    "        return v\n",
    "    else\n",
    "        return if isa(v, Number)\n",
    "            \"$(round(v*100, digits=3)) %\"\n",
    "        else\n",
    "            v\n",
    "        end\n",
    "    end\n",
    "end;\n",
    "\n",
    "function stock_price_to_time_array(x)\n",
    "    coln = collect(keys(x))[3:end] # only get the keys that are not ticker or datetime\n",
    "    m = hcat([x[k] for k ∈ coln]...) #Convert the dictionary into a matrix\n",
    "    return TimeArray(x[\"timestamp\"], m, Symbol.(coln), x[\"ticker\"])\n",
    "end\n",
    "assets = [\"AAL\", \"AAPL\", \"AMC\", \"BB\", \"BBY\", \"DELL\", \"DG\", \"DRS\", \"GME\", \"INTC\", \"LULU\",\n",
    "          \"MARA\", \"MCI\", \"MSFT\", \"NKLA\", \"NVAX\", \"NVDA\", \"PARA\", \"PLNT\", \"SAVE\", \"SBUX\",\n",
    "          \"SIRI\", \"STX\", \"TLRY\", \"TSLA\"]\n",
    "Date_0 = \"2019-01-01\"\n",
    "Date_1 = \"2023-01-01\"\n",
    "prices = get_prices.(assets; startdt = Date_0, enddt = Date_1)\n",
    "prices = stock_price_to_time_array.(prices)\n",
    "prices = hcat(prices...)\n",
    "cidx = colnames(prices)[occursin.(r\"adj\", string.(colnames(prices)))]\n",
    "prices = prices[cidx]\n",
    "TimeSeries.rename!(prices, Symbol.(assets));"
   ],
   "metadata": {},
   "execution_count": 1
  },
  {
   "cell_type": "markdown",
   "source": [
    "## 6.2 Instantiating an instance of `Portfolio`.\n",
    "\n",
    "We'll compute basic statistics for this."
   ],
   "metadata": {}
  },
  {
   "outputs": [],
   "cell_type": "code",
   "source": [
    "portfolio = Portfolio(; prices = prices,\n",
    "                      # Continuous optimiser.\n",
    "                      solvers = Dict(:Clarabel => Dict(:solver => Clarabel.Optimizer,\n",
    "                                                       :check_sol => (allow_local = true,\n",
    "                                                                      allow_almost = true),\n",
    "                                                       :params => Dict(\"verbose\" => false))),\n",
    "                      # MIP optimiser for the discrete allocation.\n",
    "                      alloc_solvers = Dict(:HiGHS => Dict(:solver => HiGHS.Optimizer,\n",
    "                                                          :check_sol => (allow_local = true,\n",
    "                                                                         allow_almost = true),\n",
    "                                                          :params => Dict(\"log_to_console\" => false))));\n",
    "\n",
    "asset_statistics!(portfolio)"
   ],
   "metadata": {},
   "execution_count": 2
  },
  {
   "cell_type": "markdown",
   "source": [
    "## 6.3 Worst case statistics\n",
    "\n",
    "In order to perform a worst case mean variance optimisation we need to compute uncertainty sets for the expected returns vector and covariance matrix. We can do this via `wc_statistics!`.\n",
    "\n",
    "For the purposes of this tutorial we'll use the defaults. We will explore the other options one can sue for computing the uncertainty sets in a subsequent tutorial."
   ],
   "metadata": {}
  },
  {
   "outputs": [],
   "cell_type": "code",
   "source": [
    "# Set random seed for reproducible results.\n",
    "Random.seed!(123)\n",
    "wc_statistics!(portfolio)"
   ],
   "metadata": {},
   "execution_count": 3
  },
  {
   "cell_type": "markdown",
   "source": [
    "## 6.4 Optimising the portfolio\n",
    "\n",
    "Having computed our worst case statistics, we can optimise the portfolio. The `WC` struct defines which set types to use in the worst case mean variance optimisation. `WC` defaults to using `Box` constraints for both the expected returns vector and covariance matrix.\n",
    "\n",
    "User-provided risk measures have no effect on this type of optimisation will only perform a mean variance optimisation with uncertainty sets.\n",
    "\n",
    "This type of optimisation can take any `PortfolioOptimiser.ObjectiveFunction`."
   ],
   "metadata": {}
  },
  {
   "outputs": [
    {
     "name": "stdout",
     "output_type": "stream",
     "text": [
      "┌─────────┬──────────┬───────────┬───────────┬─────────────┐\n",
      "│ tickers │  box_box │ ellip_box │ box_ellip │ ellip_ellip │\n",
      "│  String │  Float64 │   Float64 │   Float64 │     Float64 │\n",
      "├─────────┼──────────┼───────────┼───────────┼─────────────┤\n",
      "│     AAL │  0.017 % │   1.524 % │   0.053 % │     0.924 % │\n",
      "│    AAPL │ 93.781 % │   4.102 % │  90.058 % │     4.474 % │\n",
      "│     AMC │  0.014 % │   0.642 % │    0.04 % │     0.378 % │\n",
      "│      BB │  0.018 % │   1.872 % │   0.057 % │     1.925 % │\n",
      "│     BBY │  0.041 % │   2.823 % │   0.192 % │     1.519 % │\n",
      "│    DELL │  0.043 % │   3.462 % │   0.208 % │     3.362 % │\n",
      "│      DG │  0.274 % │  21.597 % │   1.079 % │    19.256 % │\n",
      "│     DRS │  0.164 % │   3.707 % │   0.753 % │     4.709 % │\n",
      "│     GME │  0.125 % │   0.957 % │   0.627 % │     0.519 % │\n",
      "│    INTC │  0.023 % │   3.394 % │   0.082 % │     2.891 % │\n",
      "│    LULU │  0.075 % │   2.739 % │   0.391 % │     1.518 % │\n",
      "│    MARA │  0.038 % │   0.472 % │    0.16 % │     0.456 % │\n",
      "│     MCI │  0.038 % │  18.499 % │   0.181 % │    18.342 % │\n",
      "│    MSFT │  0.145 % │   4.734 % │   0.702 % │     5.364 % │\n",
      "│    NKLA │  0.014 % │   1.941 % │   0.039 % │     2.284 % │\n",
      "│    NVAX │  0.017 % │   1.507 % │   0.051 % │     1.269 % │\n",
      "│    NVDA │   0.33 % │   1.002 % │   1.141 % │     1.622 % │\n",
      "│    PARA │  0.018 % │   2.162 % │   0.057 % │     1.243 % │\n",
      "│    PLNT │  0.033 % │   1.783 % │   0.135 % │      0.45 % │\n",
      "│    SAVE │  0.016 % │   0.959 % │   0.049 % │     1.177 % │\n",
      "│    SBUX │  0.049 % │   5.689 % │   0.253 % │     8.225 % │\n",
      "│    SIRI │  0.033 % │   7.873 % │    0.15 % │    12.004 % │\n",
      "│     STX │  0.041 % │   4.234 % │   0.192 % │     5.248 % │\n",
      "│    TLRY │   0.01 % │   1.022 % │   0.025 % │     0.751 % │\n",
      "│    TSLA │  4.645 % │   1.305 % │   3.325 % │      0.09 % │\n",
      "└─────────┴──────────┴───────────┴───────────┴─────────────┘\n"
     ]
    }
   ],
   "cell_type": "code",
   "source": [
    "# User-provided risk measures have no effect.\n",
    "rm = CVaR()\n",
    "# Worst case mean-variance optimisation using default set types.\n",
    "type = WC()\n",
    "# We'll maximise the risk-adjusted return ratio.\n",
    "obj = Sharpe(; rf = 3.5 / 100 / 252)\n",
    "\n",
    "# Box uncertainty set for the expected returns vector and covariance matrix.\n",
    "w1 = optimise!(portfolio; type = type, rm = rm, obj = obj)\n",
    "\n",
    "# Ellipse uncertainty set for the expected returns vector and box uncertainty set for the covariance matrix.\n",
    "type.mu = Ellipse()\n",
    "w2 = optimise!(portfolio; type = type, rm = rm, obj = obj)\n",
    "\n",
    "# Box uncertainty set for the expected returns vector and ellipse uncertainty set for the covariance matrix.\n",
    "type.mu = Box()\n",
    "type.cov = Ellipse()\n",
    "w3 = optimise!(portfolio; type = type, rm = rm, obj = obj)\n",
    "\n",
    "# Ellipse uncertainty set for the expected returns vector and ellipse uncertainty set for the covariance matrix.\n",
    "type.mu = Ellipse()\n",
    "w4 = optimise!(portfolio; type = type, rm = rm, obj = obj)\n",
    "\n",
    "pretty_table(DataFrame(; tickers = w1.tickers, box_box = w1.weights, ellip_box = w2.weights,\n",
    "                       box_ellip = w3.weights, ellip_ellip = w4.weights); formatters = fmt1)"
   ],
   "metadata": {},
   "execution_count": 4
  },
  {
   "cell_type": "markdown",
   "source": [
    "As you can see, the type of constraint used can have a large impact on the results of the optimisation. This is accentuated by the fact that we maximised the risk-adjusted return ratio. We'll now minimise the risk, on which the uncertainty set for the expected returns vector has a smaller impact."
   ],
   "metadata": {}
  },
  {
   "outputs": [
    {
     "name": "stdout",
     "output_type": "stream",
     "text": [
      "┌─────────┬──────────┬───────────┬───────────┬─────────────┐\n",
      "│ tickers │  box_box │ ellip_box │ box_ellip │ ellip_ellip │\n",
      "│  String │  Float64 │   Float64 │   Float64 │     Float64 │\n",
      "├─────────┼──────────┼───────────┼───────────┼─────────────┤\n",
      "│     AAL │    0.0 % │     0.0 % │     0.0 % │       0.0 % │\n",
      "│    AAPL │  0.003 % │     0.0 % │   0.001 % │       0.0 % │\n",
      "│     AMC │    0.0 % │     0.0 % │     0.0 % │       0.0 % │\n",
      "│      BB │    0.0 % │     0.0 % │     0.0 % │       0.0 % │\n",
      "│     BBY │    0.0 % │     0.0 % │     0.0 % │       0.0 % │\n",
      "│    DELL │    0.0 % │     0.0 % │     0.0 % │       0.0 % │\n",
      "│      DG │ 39.829 % │   39.84 % │  38.874 % │    38.874 % │\n",
      "│     DRS │  0.935 % │   0.935 % │   2.357 % │     2.357 % │\n",
      "│     GME │    0.0 % │     0.0 % │     0.0 % │       0.0 % │\n",
      "│    INTC │    0.0 % │     0.0 % │     0.0 % │       0.0 % │\n",
      "│    LULU │    0.0 % │     0.0 % │     0.0 % │       0.0 % │\n",
      "│    MARA │    0.0 % │     0.0 % │     0.0 % │       0.0 % │\n",
      "│     MCI │  30.67 % │  30.665 % │   30.54 % │    30.539 % │\n",
      "│    MSFT │  1.296 % │    1.29 % │   0.494 % │     0.495 % │\n",
      "│    NKLA │    0.0 % │     0.0 % │    0.84 % │      0.84 % │\n",
      "│    NVAX │    0.0 % │     0.0 % │     0.0 % │       0.0 % │\n",
      "│    NVDA │    0.0 % │     0.0 % │     0.0 % │       0.0 % │\n",
      "│    PARA │    0.0 % │     0.0 % │     0.0 % │       0.0 % │\n",
      "│    PLNT │    0.0 % │     0.0 % │     0.0 % │       0.0 % │\n",
      "│    SAVE │    0.0 % │     0.0 % │     0.0 % │       0.0 % │\n",
      "│    SBUX │  8.449 % │   8.449 % │    8.21 % │     8.211 % │\n",
      "│    SIRI │   16.6 % │    16.6 % │  15.056 % │    15.056 % │\n",
      "│     STX │  2.216 % │    2.22 % │   3.628 % │     3.628 % │\n",
      "│    TLRY │    0.0 % │     0.0 % │     0.0 % │       0.0 % │\n",
      "│    TSLA │    0.0 % │     0.0 % │     0.0 % │       0.0 % │\n",
      "└─────────┴──────────┴───────────┴───────────┴─────────────┘\n"
     ]
    }
   ],
   "cell_type": "code",
   "source": [
    "type = WC()\n",
    "# We'll maximise the risk-adjusted return ratio.\n",
    "obj = MinRisk()\n",
    "\n",
    "# Box uncertainty set for the expected returns vector and covariance matrix.\n",
    "w5 = optimise!(portfolio; type = type, rm = rm, obj = obj)\n",
    "\n",
    "# Ellipse uncertainty set for the expected returns vector and box uncertainty set for the covariance matrix.\n",
    "type.mu = Ellipse()\n",
    "w6 = optimise!(portfolio; type = type, rm = rm, obj = obj)\n",
    "\n",
    "# Box uncertainty set for the expected returns vector and ellipse uncertainty set for the covariance matrix.\n",
    "type.mu = Box()\n",
    "type.cov = Ellipse()\n",
    "w7 = optimise!(portfolio; type = type, rm = rm, obj = obj)\n",
    "\n",
    "# Ellipse uncertainty set for the expected returns vector and ellipse uncertainty set for the covariance matrix.\n",
    "type.mu = Ellipse()\n",
    "w8 = optimise!(portfolio; type = type, rm = rm, obj = obj)\n",
    "\n",
    "pretty_table(DataFrame(; tickers = w5.tickers, box_box = w5.weights, ellip_box = w6.weights,\n",
    "                       box_ellip = w7.weights, ellip_ellip = w8.weights); formatters = fmt1)"
   ],
   "metadata": {},
   "execution_count": 5
  },
  {
   "cell_type": "markdown",
   "source": [
    "It's also posible to disable the worst set constraint for the expected returns vector and covariance matrix independently. We'll disable them both and see that we recover the traditional mean variance optimisation."
   ],
   "metadata": {}
  },
  {
   "outputs": [
    {
     "name": "stdout",
     "output_type": "stream",
     "text": [
      "┌─────────┬───────────┬───────────┬─────────────┬─────────────┐\n",
      "│ tickers │ nowc_risk │ trad_risk │ nowc_sharpe │ trad_sharpe │\n",
      "│  String │   Float64 │   Float64 │     Float64 │     Float64 │\n",
      "├─────────┼───────────┼───────────┼─────────────┼─────────────┤\n",
      "│     AAL │     0.0 % │     0.0 % │       0.0 % │       0.0 % │\n",
      "│    AAPL │   0.006 % │   0.006 % │    16.269 % │     16.26 % │\n",
      "│     AMC │     0.0 % │     0.0 % │       0.0 % │       0.0 % │\n",
      "│      BB │   0.001 % │   0.001 % │       0.0 % │       0.0 % │\n",
      "│     BBY │     0.0 % │     0.0 % │       0.0 % │       0.0 % │\n",
      "│    DELL │     0.0 % │     0.0 % │       0.0 % │       0.0 % │\n",
      "│      DG │  38.873 % │  38.873 % │     40.26 % │    40.251 % │\n",
      "│     DRS │   2.357 % │   2.357 % │    17.996 % │    17.998 % │\n",
      "│     GME │     0.0 % │     0.0 % │     9.795 % │     9.796 % │\n",
      "│    INTC │     0.0 % │     0.0 % │       0.0 % │       0.0 % │\n",
      "│    LULU │     0.0 % │     0.0 % │       0.0 % │       0.0 % │\n",
      "│    MARA │     0.0 % │     0.0 % │     4.751 % │     4.752 % │\n",
      "│     MCI │  30.539 % │  30.539 % │       0.0 % │       0.0 % │\n",
      "│    MSFT │   0.489 % │   0.489 % │       0.0 % │       0.0 % │\n",
      "│    NKLA │    0.84 % │    0.84 % │       0.0 % │       0.0 % │\n",
      "│    NVAX │   0.001 % │   0.001 % │     0.432 % │     0.444 % │\n",
      "│    NVDA │     0.0 % │     0.0 % │     0.001 % │       0.0 % │\n",
      "│    PARA │     0.0 % │     0.0 % │       0.0 % │       0.0 % │\n",
      "│    PLNT │     0.0 % │     0.0 % │       0.0 % │       0.0 % │\n",
      "│    SAVE │     0.0 % │     0.0 % │       0.0 % │       0.0 % │\n",
      "│    SBUX │   8.211 % │   8.211 % │       0.0 % │       0.0 % │\n",
      "│    SIRI │  15.055 % │  15.055 % │       0.0 % │       0.0 % │\n",
      "│     STX │   3.628 % │   3.628 % │       0.0 % │       0.0 % │\n",
      "│    TLRY │     0.0 % │     0.0 % │       0.0 % │       0.0 % │\n",
      "│    TSLA │     0.0 % │     0.0 % │    10.497 % │    10.499 % │\n",
      "└─────────┴───────────┴───────────┴─────────────┴─────────────┘\n"
     ]
    }
   ],
   "cell_type": "code",
   "source": [
    "type = WC(; mu = NoWC(), cov = NoWC())\n",
    "\n",
    "obj = MinRisk()\n",
    "w9 = optimise!(portfolio; type = type, obj = obj)\n",
    "w10 = optimise!(portfolio; type = Trad(), obj = obj)\n",
    "\n",
    "obj = Sharpe(; rf = 3.5 / 100 / 252)\n",
    "w11 = optimise!(portfolio; type = type, obj = obj)\n",
    "w12 = optimise!(portfolio; type = Trad(), obj = obj)\n",
    "\n",
    "pretty_table(DataFrame(; tickers = w9.tickers, nowc_risk = w9.weights,\n",
    "                       trad_risk = w10.weights, nowc_sharpe = w11.weights,\n",
    "                       trad_sharpe = w12.weights); formatters = fmt1)"
   ],
   "metadata": {},
   "execution_count": 6
  },
  {
   "cell_type": "markdown",
   "source": [
    "We don't recover the weights of the sharpe ratio exactly because one of the risk-adjusted return constraints is slightly relaxed with respect to the traditional optimisation."
   ],
   "metadata": {}
  },
  {
   "cell_type": "markdown",
   "source": [
    "---\n",
    "\n",
    "*This notebook was generated using [Literate.jl](https://github.com/fredrikekre/Literate.jl).*"
   ],
   "metadata": {}
  }
 ],
 "nbformat_minor": 3,
 "metadata": {
  "language_info": {
   "file_extension": ".jl",
   "mimetype": "application/julia",
   "name": "julia",
   "version": "1.11.1"
  },
  "kernelspec": {
   "name": "julia-1.11",
   "display_name": "Julia 1.11.1",
   "language": "julia"
  }
 },
 "nbformat": 4
}
