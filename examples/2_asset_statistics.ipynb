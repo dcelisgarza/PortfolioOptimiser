{
 "cells": [
  {
   "cell_type": "markdown",
   "source": [
    "# Example 2: Asset statistics\n",
    "This tutorial follows from [Tutorial 1](https://github.com/dcelisgarza/PortfolioOptimiser.jl/blob/main/examples/0_basic_use.ipynb). If something in the preamble is confusing, it is explained there.\n",
    "\n",
    "This tutorial focuses on the computation of asset statistics.\n",
    "\n",
    "## 1. Downloading the data"
   ],
   "metadata": {}
  },
  {
   "outputs": [
    {
     "output_type": "execute_result",
     "data": {
      "text/plain": "1008×25 TimeSeries.TimeArray{Float64, 2, Dates.Date, Matrix{Float64}} 2019-01-02 to 2022-12-30\n┌────────────┬─────────┬─────────┬─────────┬──────┬─────────┬─────────┬─────────\n│\u001b[1m            \u001b[0m│\u001b[1m AAL     \u001b[0m│\u001b[1m AAPL    \u001b[0m│\u001b[1m AMC     \u001b[0m│\u001b[1m BB   \u001b[0m│\u001b[1m BBY     \u001b[0m│\u001b[1m DELL    \u001b[0m│\u001b[1m DG    \u001b[0m ⋯\n├────────────┼─────────┼─────────┼─────────┼──────┼─────────┼─────────┼─────────\n│ 2019-01-02 │ 31.9632 │ 37.7501 │ 119.143 │ 7.11 │ 44.0813 │  22.371 │ 101.37 ⋯\n│ 2019-01-03 │ 29.5817 │ 33.9899 │ 120.715 │ 6.88 │ 43.1767 │ 21.4262 │   101. ⋯\n│ 2019-01-04 │ 31.5302 │ 35.4409 │ 125.151 │ 7.23 │ 43.3823 │ 21.8487 │ 102.37 ⋯\n│ 2019-01-07 │ 32.4257 │  35.362 │ 130.512 │ 7.43 │ 45.8577 │ 21.9911 │ 106.58 ⋯\n│ 2019-01-08 │ 31.9041 │ 36.0361 │ 134.672 │ 7.41 │ 47.2065 │ 22.2523 │ 107.09 ⋯\n│ 2019-01-09 │ 32.8882 │ 36.6481 │ 128.941 │ 7.47 │ 47.5601 │ 22.2855 │   109. ⋯\n│ 2019-01-10 │ 31.5302 │ 36.7652 │ 126.907 │ 7.52 │ 46.7706 │ 21.4547 │ 109.96 ⋯\n│ 2019-01-11 │  31.294 │ 36.4043 │  129.68 │ 7.57 │ 46.4746 │ 21.1128 │ 109.52 ⋯\n│     ⋮      │    ⋮    │    ⋮    │    ⋮    │  ⋮   │    ⋮    │    ⋮    │    ⋮   ⋱\n│ 2022-12-21 │   13.03 │ 134.188 │    53.0 │ 3.75 │ 75.0778 │ 37.5464 │ 238.10 ⋯\n│ 2022-12-22 │   12.56 │ 130.998 │    49.1 │ 3.43 │ 74.9195 │ 37.5656 │ 239.07 ⋯\n│ 2022-12-23 │   12.71 │ 130.631 │    44.0 │  3.4 │ 75.7483 │ 37.5464 │ 241.03 ⋯\n│ 2022-12-27 │   12.53 │ 128.818 │    40.3 │ 3.29 │ 76.2231 │ 37.8247 │ 240.66 ⋯\n│ 2022-12-28 │   12.32 │ 124.866 │    38.4 │ 3.18 │ 74.6495 │ 37.2009 │ 238.56 ⋯\n│ 2022-12-29 │    12.7 │ 128.402 │    41.4 │ 3.26 │ 75.6458 │ 38.2182 │ 241.48 ⋯\n│ 2022-12-30 │   12.72 │ 128.719 │    40.7 │ 3.26 │ 74.6868 │ 38.6022 │ 240.30 ⋯\n└────────────┴─────────┴─────────┴─────────┴──────┴─────────┴─────────┴─────────\n\u001b[36m                                                 19 columns and 993 rows omitted\u001b[0m"
     },
     "metadata": {},
     "execution_count": 1
    }
   ],
   "cell_type": "code",
   "source": [
    "# using Pkg\n",
    "# Pkg.add.([\"StatsPlots\", \"GraphRecipes\", \"MarketData\", \"Clarabel\", \"HiGHS\", \"PrettyTables\", \"CovarianceEstimation\"])\n",
    "using Clarabel, CovarianceEstimation, DataFrames, Dates, GraphRecipes, HiGHS, MarketData,\n",
    "      PortfolioOptimiser, PrettyTables, Statistics, StatsBase, StatsPlots, TimeSeries\n",
    "\n",
    "# These are helper functions for formatting tables.\n",
    "fmt1 = (v, i, j) -> begin\n",
    "    if j == 1\n",
    "        return v\n",
    "    else\n",
    "        return isa(v, Number) ? \"$(round(v*100, digits=3)) %\" : v\n",
    "    end\n",
    "end;\n",
    "\n",
    "assets = Symbol.([\"AAL\", \"AAPL\", \"AMC\", \"BB\", \"BBY\", \"DELL\", \"DG\", \"DRS\", \"GME\", \"INTC\",\n",
    "                  \"LULU\", \"MARA\", \"MCI\", \"MSFT\", \"NKLA\", \"NVAX\", \"NVDA\", \"PARA\", \"PLNT\",\n",
    "                  \"SAVE\", \"SBUX\", \"SIRI\", \"STX\", \"TLRY\", \"TSLA\"])\n",
    "\n",
    "Date_0 = DateTime(2019, 01, 01)\n",
    "Date_1 = DateTime(2023, 01, 01)\n",
    "\n",
    "function get_prices(assets)\n",
    "    prices = TimeSeries.rename!(yahoo(assets[1],\n",
    "                                      YahooOpt(; period1 = Date_0, period2 = Date_1))[:AdjClose],\n",
    "                                assets[1])\n",
    "    for asset ∈ assets[2:end]\n",
    "        # Yahoo doesn't like regular calls to their API.\n",
    "        sleep(rand() / 10)\n",
    "        prices = merge(prices,\n",
    "                       TimeSeries.rename!(yahoo(asset,\n",
    "                                                YahooOpt(; period1 = Date_0,\n",
    "                                                         period2 = Date_1))[:AdjClose],\n",
    "                                          asset), :outer)\n",
    "    end\n",
    "    return prices\n",
    "end\n",
    "\n",
    "prices = get_prices(assets)"
   ],
   "metadata": {},
   "execution_count": 1
  },
  {
   "cell_type": "markdown",
   "source": [
    "## 2. Instantiating an instance of `Portfolio`."
   ],
   "metadata": {}
  },
  {
   "outputs": [],
   "cell_type": "code",
   "source": [
    "portfolio = Portfolio(; prices = prices,\n",
    "                      # Continuous optimiser.\n",
    "                      solvers = Dict(:Clarabel => Dict(:solver => Clarabel.Optimizer,\n",
    "                                                       :check_sol => (allow_local = true,\n",
    "                                                                      allow_almost = true),\n",
    "                                                       :params => Dict(\"verbose\" => false,\n",
    "                                                                       \"max_step_fraction\" => 0.7))),\n",
    "                      # MIP optimiser for the discrete allocation.\n",
    "                      alloc_solvers = Dict(:HiGHS => Dict(:solver => HiGHS.Optimizer,\n",
    "                                                          :check_sol => (allow_local = true,\n",
    "                                                                         allow_almost = true),\n",
    "                                                          :params => Dict(\"log_to_console\" => false))));"
   ],
   "metadata": {},
   "execution_count": 2
  },
  {
   "cell_type": "markdown",
   "source": [
    "## 3 Asset statistics\n",
    "When you first create a `Portfolio` in this way, it does not contain any statistics other than the returns. So we must compute them.\n",
    "\n",
    "[`PortfolioOptimiser`](https://github.com/dcelisgarza/PortfolioOptimiser.jl) uses the [`StatsAPI.jl`](https://github.com/JuliaStats/StatsAPI.jl) interfaces through [`StatsBase.jl`](https://juliastats.org/StatsBase.jl/stable/). Meaning it is composable with other packages which use the common framework, and it also makes it easy for users to define their custom methods by using Julia's typesystem.\n",
    "\n",
    "We'll only focus on the expected returns and covariance matrix. The default parameters are the arithmetic mean and sample covariance."
   ],
   "metadata": {}
  },
  {
   "outputs": [
    {
     "output_type": "execute_result",
     "data": {
      "text/plain": "25×25 Matrix{Float64}:\n 0.00173714   0.000286463   0.00129223   …  0.000742619  0.000484063\n 0.000286463  0.000474309   0.0003441       0.000322805  0.000454059\n 0.00129223   0.0003441     0.0159654       0.00144033   0.000678017\n 0.000498617  0.000374708   0.00289074      0.000797504  0.000580427\n 0.000405104  0.000285721   0.000509883     0.000421592  0.000365733\n 0.000405415  0.000289301   0.000358588  …  0.000438396  0.000376212\n 7.19774e-5   0.00013823   -1.71042e-5      0.000132469  0.000167641\n 0.000276671  0.000216877   0.000335913     0.000895187  0.000497861\n 0.000896021  0.000360032   0.00754261      0.00116433   0.000721856\n 0.000330739  0.00032225    0.00031253      0.000379187  0.00039576\n ⋮                                       ⋱               \n 0.000400528  0.000500485   0.000513762     0.000639132  0.000726519\n 0.000626142  0.000254047   0.0011043       0.000568599  0.000401119\n 0.000632864  0.000289447   0.000827368     0.000730763  0.000502545\n 0.00138514   0.000289344   0.000830215     0.000856501  0.000514561\n 0.000356085  0.000256243   0.000228336  …  0.000353554  0.00032494\n 0.000329331  0.000206209   0.000582208     0.000342617  0.000253698\n 0.000388851  0.000280591   0.000805551     0.000387404  0.000337478\n 0.000742619  0.000322805   0.00144033      0.00513604   0.000838486\n 0.000484063  0.000454059   0.000678017     0.000838486  0.00178689"
     },
     "metadata": {},
     "execution_count": 3
    }
   ],
   "cell_type": "code",
   "source": [
    "asset_statistics!(portfolio; set_kurt = false, set_skurt = false, set_skew = false,\n",
    "                  set_sskew = false)\n",
    "\n",
    "# Save these for later use.\n",
    "mu1 = copy(portfolio.mu)\n",
    "cov1 = copy(portfolio.cov)"
   ],
   "metadata": {},
   "execution_count": 3
  },
  {
   "cell_type": "markdown",
   "source": [
    "We can prove this by computing the arithmetic mean and sample covariance of the returns."
   ],
   "metadata": {}
  },
  {
   "outputs": [
    {
     "name": "stdout",
     "output_type": "stream",
     "text": [
      "true\n",
      "true\n"
     ]
    }
   ],
   "cell_type": "code",
   "source": [
    "println(isapprox(mu1, vec(mean(portfolio.returns; dims = 1)))) # true\n",
    "println(isapprox(cov1, cov(portfolio.returns; dims = 1))) # true"
   ],
   "metadata": {},
   "execution_count": 4
  },
  {
   "cell_type": "markdown",
   "source": [
    "These statistics are not very robust, so they're not very reliable. We can make them a bit better by using weights. First we need to explain the estimators.\n",
    "\n",
    "### 3.1 Mean estimators\n",
    "\n",
    "Lets start with the easier one, `MeanEstimator`. There are four of these, `MuSimple`, `MuJS`, `MuBS`, `MuBOP`. As you can see, they are all subtypes of `MeanEstimator`, we will use this later on to define our own method. Lets first focus on the first estimator, which is also the default.\n",
    "\n",
    "We've already seen its default behaviour, we know from above it's the same as the arithmetic mean. But it can take a vector of [`AbstractWeights`](https://juliastats.org/StatsBase.jl/stable/weights/).\n",
    "\n",
    "First lets get the number of timestamps `T`, and number of assets `N`. We'll use `T` for defining our weights."
   ],
   "metadata": {}
  },
  {
   "outputs": [
    {
     "output_type": "execute_result",
     "data": {
      "text/plain": "(1007, 25)"
     },
     "metadata": {},
     "execution_count": 5
    }
   ],
   "cell_type": "code",
   "source": [
    "T, N = size(portfolio.returns)"
   ],
   "metadata": {},
   "execution_count": 5
  },
  {
   "cell_type": "markdown",
   "source": [
    "There are a variety of weights, but the only ones that make sense with no prior knowledge are exponential weights. Now lets use this to compute the asset expected returns vector, we do this by passing the argument `mu_type = mu_type_1` to the function, we've also set the `set_cov = false` so it doesn't recompute the covariance."
   ],
   "metadata": {}
  },
  {
   "outputs": [
    {
     "name": "stdout",
     "output_type": "stream",
     "text": [
      "false\n"
     ]
    }
   ],
   "cell_type": "code",
   "source": [
    "# Play around with the value of lambda (1/T, in the example) to see the effect it has on the weights and computed expected returns vector.\n",
    "w = eweights(1:T, 1 / T; scale = true)\n",
    "mu_type_1 = MuSimple(; w = w)\n",
    "asset_statistics!(portfolio; mu_type = mu_type_1, set_cov = false, set_kurt = false,\n",
    "                  set_skurt = false, set_skew = false, set_sskew = false)\n",
    "mu2 = copy(portfolio.mu)\n",
    "\n",
    "println(isapprox(mu1, mu2)) # false"
   ],
   "metadata": {},
   "execution_count": 6
  },
  {
   "cell_type": "markdown",
   "source": [
    "The other three estimators included in [`PortfolioOptimiser`](https://github.com/dcelisgarza/PortfolioOptimiser.jl) require a target and a covariance matrix, since they use these to correct the estimate of the arithmetic mean. The available targets are `GM`, `VW`, `SE`, they all default to `GM`. They can also take an [`AbstractWeights`](https://juliastats.org/StatsBase.jl/stable/weights/), which they will use to compute the arithmetic mean that is then corrected with the target and covariane matrix. We'll try a few combinations.\n",
    "\n",
    "The covariance matrix is not needed, if it is empty, it will be computed by `asset_statistics!` from the parameters given to it via `cov_type` even if `set_cov = false`, it just won't replace the old covariance matrix with the one that's been computed for the mean estimator, once the calculation is done, the `sigma` field of the estimator will be set to empty once more. If a covariance matrix is provided, then `asset_statistics!` will use this rather than computing one for it.\n",
    "\n",
    "Feel free to mix and match, and to play around with various combinations."
   ],
   "metadata": {}
  },
  {
   "outputs": [
    {
     "output_type": "execute_result",
     "data": {
      "text/plain": "25-element Vector{Float64}:\n  2.3361243099116828e-5\n -0.00045343739860933527\n -0.0012052116790494552\n -7.60001275069127e-5\n -0.00027045977143162926\n -0.000265640872430986\n -0.00031156286527702807\n -0.0007200563823162782\n -0.0018880090659549994\n  5.0531618992130747e-5\n  ⋮\n -0.0006241175939177237\n  7.84927380383913e-5\n -0.0002891740822476368\n  2.4473857682841437e-5\n -0.0002231266853924246\n -7.589322037697353e-5\n -0.00024135235110550414\n  0.00023932478951596903\n -0.0008314951292502908"
     },
     "metadata": {},
     "execution_count": 7
    }
   ],
   "cell_type": "code",
   "source": [
    "mu_type_2 = MuJS(; target = GM())\n",
    "asset_statistics!(portfolio; mu_type = mu_type_2, set_cov = false, set_kurt = false,\n",
    "                  set_skurt = false, set_skew = false, set_sskew = false)\n",
    "mu3 = copy(portfolio.mu)\n",
    "\n",
    "mu_type_3 = MuBS(; target = VW(), w = w)\n",
    "asset_statistics!(portfolio; mu_type = mu_type_3, set_cov = false, set_kurt = false,\n",
    "                  set_skurt = false, set_skew = false, set_sskew = false)\n",
    "mu4 = copy(portfolio.mu)\n",
    "\n",
    "# Using a custom covariance with random noise. It's not guaranteed to be positive definite.\n",
    "noise = randn(N, N) / N^2\n",
    "noise = noise' * noise\n",
    "mu_type_4 = MuBOP(; target = SE(), sigma = cov1 + noise)\n",
    "asset_statistics!(portfolio; mu_type = mu_type_4, set_cov = false, set_kurt = false,\n",
    "                  set_skurt = false, set_skew = false, set_sskew = false)\n",
    "mu5 = copy(portfolio.mu)"
   ],
   "metadata": {},
   "execution_count": 7
  },
  {
   "cell_type": "markdown",
   "source": [
    "All targets subtype `MeanTarget`. It is possible for users to define a one by creating a concrete subtype of `MeanTarget` and defining a new `target_mean` for the custom target.\n",
    "\n",
    "```\n",
    "struct CustomMeanTarget <: MeanTarget\n",
    "    ...\n",
    "end\n",
    "function target_mean(ct::CustomMeanTarget, mu::AbstractVector, sigma::AbstractMatrix, inv_sigma, T::Integer,\n",
    "                     N::Integer)\n",
    "    ...\n",
    "end\n",
    "```\n",
    "\n",
    "however, this limits the target to using the same data as the current ones. It's easier to define a new concrete subtype of `MeanEstimator`. We will do this in the following section.\n",
    "\n",
    "### 3.2 Defining a custom mean method\n",
    "\n",
    "In order to define a new method all you need to do is create a new subtype of `PortfolioOptimiser.MeanEstimator` (it's not exported so it must be qualified) and define a new [`StatsBase.mean`](https://juliastats.org/StatsBase.jl/stable/scalarstats/#Weighted-sum-and-mean) function.\n",
    "\n",
    "This is all we need, we can now define a custom mean that is the same as the `MuSimple`, but scales the vector. You can scale the vector uniformly, by providing a scalar, or scale each item individually by providing an `AbstractVector`."
   ],
   "metadata": {}
  },
  {
   "outputs": [
    {
     "name": "stdout",
     "output_type": "stream",
     "text": [
      "[5.0, 5.0, 5.0, 5.0, 5.0, 5.0, 5.0, 5.0, 5.0, 5.0, 5.0, 5.0, 5.0, 5.0, 5.0, 5.0, 5.0, 5.0, 5.0, 5.0, 5.0, 5.0, 5.0, 5.0, 5.0]\n",
      "[1.0, 2.0, 3.0, 4.0, 5.0, 6.000000000000001, 7.0, 8.0, 9.0, 10.0, 11.0, 12.0, 13.0, 14.0, 15.0, 16.0, 17.0, 18.0, 19.0, 20.0, 21.0, 22.0, 23.0, 24.000000000000004, 25.0]\n"
     ]
    }
   ],
   "cell_type": "code",
   "source": [
    "mutable struct MyScaledMean{T1, T2} <: PortfolioOptimiser.MeanEstimator\n",
    "    scale::T1\n",
    "    w::T2\n",
    "end\n",
    "function MyScaledMean(; scale::Union{<:AbstractVector{<:Real}, Real} = 1, w = nothing)\n",
    "    return MyScaledMean{typeof(scale), typeof(w)}(scale, w)\n",
    "end\n",
    "\n",
    "# We have to turn this into a vec so we can scale by a vector.\n",
    "function StatsBase.mean(me::MyScaledMean, X::AbstractArray; dims::Int = 1)\n",
    "    return me.scale .*\n",
    "           vec((isnothing(me.w) ? mean(X; dims = dims) : mean(X, me.w; dims = dims)))\n",
    "end\n",
    "\n",
    "scale = 5\n",
    "mu_type_5 = MyScaledMean(; scale = scale)\n",
    "asset_statistics!(portfolio; mu_type = mu_type_5, set_cov = false, set_kurt = false,\n",
    "                  set_skurt = false, set_skew = false, set_sskew = false)\n",
    "mu6 = copy(portfolio.mu)\n",
    "# Should be a vector of 5's.\n",
    "println(mu6 ./ mu1)\n",
    "\n",
    "scale = 1:N\n",
    "mu_type_6 = MyScaledMean(; scale = scale)\n",
    "asset_statistics!(portfolio; mu_type = mu_type_6, set_cov = false, set_kurt = false,\n",
    "                  set_skurt = false, set_skew = false, set_sskew = false)\n",
    "mu7 = copy(portfolio.mu)\n",
    "# Should be a vector going from 1 to N.\n",
    "println(mu7 ./ mu1)"
   ],
   "metadata": {},
   "execution_count": 8
  },
  {
   "cell_type": "markdown",
   "source": [
    "### 3.3 Covariance estimators\n",
    "\n",
    "[`PortfolioOptimiser`](https://github.com/dcelisgarza/PortfolioOptimiser.jl) comes with quite a few covariance estimators. However, it is best to wrap them all with `PortCovCor`. This is because it contains methods for denoising, fixing non-positive definite matrices, and using a graph-based algorithm for computing the covariance based on its relational structure."
   ],
   "metadata": {}
  },
  {
   "outputs": [
    {
     "output_type": "execute_result",
     "data": {
      "text/plain": "PortCovCor(CovFull(false, StatsBase.SimpleCovariance(true), nothing), PosdefNearest(NearestCorrelationMatrix.Newton{Tuple{}, Base.Pairs{Symbol, Union{}, Tuple{}, @NamedTuple{}}}(1.0e-12, 0.01, 0.0001, 200, 20, (), Base.Pairs{Symbol, Union{}, Tuple{}, @NamedTuple{}}())), NoDenoise(), NoJLoGo())"
     },
     "metadata": {},
     "execution_count": 9
    }
   ],
   "cell_type": "code",
   "source": [
    "ce1 = CovFull()\n",
    "ce2 = CovSemi()\n",
    "ce3 = CorMutualInfo()\n",
    "ce4 = CorDistance()\n",
    "ce5 = CorLTD()\n",
    "ce6 = CorGerber0()\n",
    "ce7 = CorGerber1()\n",
    "ce8 = CorGerber2()\n",
    "ce9 = CorSB0()\n",
    "ce10 = CorSB1()\n",
    "ce11 = CorGerberSB0()\n",
    "ce12 = CorGerberSB1()\n",
    "\n",
    "ce = PortCovCor(; ce = ce1)"
   ],
   "metadata": {},
   "execution_count": 9
  },
  {
   "cell_type": "markdown",
   "source": [
    "---\n",
    "\n",
    "*This notebook was generated using [Literate.jl](https://github.com/fredrikekre/Literate.jl).*"
   ],
   "metadata": {}
  }
 ],
 "nbformat_minor": 3,
 "metadata": {
  "language_info": {
   "file_extension": ".jl",
   "mimetype": "application/julia",
   "name": "julia",
   "version": "1.10.5"
  },
  "kernelspec": {
   "name": "julia-1.10",
   "display_name": "Julia 1.10.5",
   "language": "julia"
  }
 },
 "nbformat": 4
}
