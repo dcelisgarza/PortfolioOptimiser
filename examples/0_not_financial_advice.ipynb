{
 "cells": [
  {
   "cell_type": "markdown",
   "source": [
    "# Example 0: Not financial advice\n",
    "\n",
    "This example goes over a sample workflow using [`PortfolioOptimiser.jl`](https://github.com/dcelisgarza/PortfolioOptimiser.jl/). I use a similar strategy myself. This is just an example of the things that can be done with the library.\n",
    "\n",
    "## 0.1 Downloading the data\n",
    "\n",
    "[`PortfolioOptimiser`](https://github.com/dcelisgarza/PortfolioOptimiser.jl) does not ship with supporting packages that are not integral to its internal functionality. This means users are responsible for installing packages to load and download data, [`JuMP`](https://jump.dev/JuMP.jl/stable/installation/#Supported-solvers)-compatible solvers, pretty printing, and the plotting functionality is an extension which requires [`GraphRecipes`](https://github.com/JuliaPlots/GraphRecipes.jl) and [`StatsPlots`](https://github.com/JuliaPlots/StatsPlots.jl).\n",
    "\n",
    "Which means we need a few extra packages to be installed. Uncomment the first two lines if these packages are not in your Julia environment."
   ],
   "metadata": {}
  },
  {
   "outputs": [],
   "cell_type": "code",
   "source": [
    "# using Pkg\n",
    "# Pkg.add.([\"StatsPlots\", \"GraphRecipes\", \"YFinance\", \"Clarabel\", \"HiGHS\", \"PrettyTables\"])\n",
    "using Clarabel, DataFrames, Dates, GraphRecipes, HiGHS, YFinance, PortfolioOptimiser,\n",
    "      PrettyTables, Statistics, StatsBase, StatsPlots, TimeSeries\n",
    "\n",
    "# These are helper functions for formatting tables.\n",
    "fmt1 = (v, i, j) -> begin\n",
    "    if j == 1\n",
    "        return v\n",
    "    else\n",
    "        return isa(v, Number) ? \"$(round(v*100, digits=3)) %\" : v\n",
    "    end\n",
    "end;\n",
    "fmt2 = (v, i, j) -> begin\n",
    "    if j != 5\n",
    "        return v\n",
    "    else\n",
    "        return isa(v, Number) ? \"$(round(v*100, digits=3)) %\" : v\n",
    "    end\n",
    "end;"
   ],
   "metadata": {},
   "execution_count": 1
  },
  {
   "cell_type": "markdown",
   "source": [
    "We define our list of meme stonks and a generous date range. We will only be keeping the adjusted close price. In practice it doesn't really matter because we're using daily data."
   ],
   "metadata": {}
  },
  {
   "outputs": [
    {
     "output_type": "execute_result",
     "data": {
      "text/plain": "1008×25 TimeSeries.TimeArray{Float64, 2, Dates.DateTime, Matrix{Float64}} 2019-01-02T14:30:00 to 2022-12-30T14:30:00\n┌─────────────────────┬─────────┬─────────┬─────────┬──────┬─────────┬──────────\n│\u001b[1m                     \u001b[0m│\u001b[1m AAL     \u001b[0m│\u001b[1m AAPL    \u001b[0m│\u001b[1m AMC     \u001b[0m│\u001b[1m BB   \u001b[0m│\u001b[1m BBY     \u001b[0m│\u001b[1m DELL   \u001b[0m ⋯\n├─────────────────────┼─────────┼─────────┼─────────┼──────┼─────────┼──────────\n│ 2019-01-02T14:30:00 │ 31.9632 │ 37.7501 │ 119.143 │ 7.11 │ 43.6631 │  22.371 ⋯\n│ 2019-01-03T14:30:00 │ 29.5817 │ 33.9899 │ 120.715 │ 6.88 │  42.767 │ 21.4262 ⋯\n│ 2019-01-04T14:30:00 │ 31.5302 │ 35.4409 │ 125.151 │ 7.23 │ 42.9707 │ 21.8487 ⋯\n│ 2019-01-07T14:30:00 │ 32.4257 │  35.362 │ 130.512 │ 7.43 │ 45.4226 │ 21.9911 ⋯\n│ 2019-01-08T14:30:00 │ 31.9041 │ 36.0361 │ 134.672 │ 7.41 │ 46.7586 │ 22.2523 ⋯\n│ 2019-01-09T14:30:00 │ 32.8882 │ 36.6481 │ 128.941 │ 7.47 │ 47.1089 │ 22.2855 ⋯\n│ 2019-01-10T14:30:00 │ 31.5302 │ 36.7652 │ 126.907 │ 7.52 │ 46.3268 │ 21.4547 ⋯\n│ 2019-01-11T14:30:00 │  31.294 │ 36.4043 │  129.68 │ 7.57 │ 46.0336 │ 21.1128 ⋯\n│          ⋮          │    ⋮    │    ⋮    │    ⋮    │  ⋮   │    ⋮    │    ⋮    ⋱\n│ 2022-12-21T14:30:00 │   13.03 │ 134.188 │    53.0 │ 3.75 │ 74.3655 │ 37.5464 ⋯\n│ 2022-12-22T14:30:00 │   12.56 │ 130.998 │    49.1 │ 3.43 │ 74.2087 │ 37.5656 ⋯\n│ 2022-12-23T14:30:00 │   12.71 │ 130.631 │    44.0 │  3.4 │ 75.0295 │ 37.5464 ⋯\n│ 2022-12-27T14:30:00 │   12.53 │ 128.818 │    40.3 │ 3.29 │ 75.4999 │ 37.8247 ⋯\n│ 2022-12-28T14:30:00 │   12.32 │ 124.866 │    38.4 │ 3.18 │ 73.9412 │ 37.2009 ⋯\n│ 2022-12-29T14:30:00 │    12.7 │ 128.402 │    41.4 │ 3.26 │ 74.9281 │ 38.2182 ⋯\n│ 2022-12-30T14:30:00 │   12.72 │ 128.719 │    40.7 │ 3.26 │ 73.9781 │ 38.6021 ⋯\n└─────────────────────┴─────────┴─────────┴─────────┴──────┴─────────┴──────────\n\u001b[36m                                                 19 columns and 993 rows omitted\u001b[0m"
     },
     "metadata": {},
     "execution_count": 2
    }
   ],
   "cell_type": "code",
   "source": [
    "function stock_price_to_time_array(x)\n",
    "    coln = collect(keys(x))[3:end] # only get the keys that are not ticker or datetime\n",
    "    m = hcat([x[k] for k ∈ coln]...) #Convert the dictionary into a matrix\n",
    "    return TimeArray(x[\"timestamp\"], m, Symbol.(coln), x[\"ticker\"])\n",
    "end\n",
    "\n",
    "assets = [\"AAL\", \"AAPL\", \"AMC\", \"BB\", \"BBY\", \"DELL\", \"DG\", \"DRS\", \"GME\", \"INTC\", \"LULU\",\n",
    "          \"MARA\", \"MCI\", \"MSFT\", \"NKLA\", \"NVAX\", \"NVDA\", \"PARA\", \"PLNT\", \"SAVE\", \"SBUX\",\n",
    "          \"SIRI\", \"STX\", \"TLRY\", \"TSLA\"]\n",
    "Date_0 = \"2019-01-01\"\n",
    "Date_1 = \"2023-01-01\"\n",
    "prices = get_prices.(assets; startdt = Date_0, enddt = Date_1)\n",
    "prices = stock_price_to_time_array.(prices)\n",
    "prices = hcat(prices...)\n",
    "cidx = colnames(prices)[occursin.(r\"adj\", string.(colnames(prices)))]\n",
    "prices = prices[cidx]\n",
    "TimeSeries.rename!(prices, Symbol.(assets))"
   ],
   "metadata": {},
   "execution_count": 2
  },
  {
   "cell_type": "markdown",
   "source": [
    "## 0.2 Filter worst stocks\n",
    "\n",
    "If we have hundreds or thousands of stocks, we should probably do some pruning of the worst stocks using a cheap method. For this we'll use the `HERC` optimisation type. We'll filter the stocks using a few different risk measures. The order matters here, as each risk measure will filter out the worst performing stocks for each iteration.\n",
    "\n",
    "First we need our filter functions."
   ],
   "metadata": {}
  },
  {
   "outputs": [
    {
     "output_type": "execute_result",
     "data": {
      "text/plain": "filter_best (generic function with 1 method)"
     },
     "metadata": {},
     "execution_count": 3
    }
   ],
   "cell_type": "code",
   "source": [
    "# This tells us the bottom percentile we need to eliminate at each iteration so we have at most `x %` of the original stocks after `n` steps.\n",
    "percentile_after_n(x, n) = 1 - exp(log(x) / n)\n",
    "\n",
    "function filter_best(assets, rms, best, cov_type, cor_type)\n",
    "    # Copy the assets to a vector that will be shrunk at every iteration.\n",
    "    assets_best = copy(assets)\n",
    "    # Compute the bottom percentile we need to remove after each iteration.\n",
    "    q = percentile_after_n(best, length(rms))\n",
    "    # Loop over all risk measures.\n",
    "    for rm ∈ rms\n",
    "        hp = HCPortfolio(; prices = prices[Symbol.(assets_best)])\n",
    "        asset_statistics!(hp; cov_type = covcor_type, cor_type = covcor_type,\n",
    "                          set_kurt = false, set_skurt = false, set_mu = false,\n",
    "                          set_skew = isa(rm, Skew) ? true : false, set_sskew = false)\n",
    "        cluster_assets!(hp; hclust_opt = HCOpt(; k_method = StdSilhouette()))\n",
    "        w = optimise!(hp; type = HERC(), rm = rm)\n",
    "\n",
    "        if isempty(w)\n",
    "            continue\n",
    "        end\n",
    "\n",
    "        w = w.weights\n",
    "\n",
    "        # Only take the stocks above the q'th quantile at each step.\n",
    "        qidx = w .>= quantile(w, q)\n",
    "        assets_best = assets_best[qidx]\n",
    "    end\n",
    "    return assets_best\n",
    "end"
   ],
   "metadata": {},
   "execution_count": 3
  },
  {
   "cell_type": "markdown",
   "source": [
    "Now we can define the parameters for our filtering procedure."
   ],
   "metadata": {}
  },
  {
   "outputs": [
    {
     "output_type": "execute_result",
     "data": {
      "text/plain": "11-element Vector{String}:\n \"AAPL\"\n \"DELL\"\n \"DG\"\n \"INTC\"\n \"LULU\"\n \"MCI\"\n \"MSFT\"\n \"NVDA\"\n \"SBUX\"\n \"SIRI\"\n \"STX\""
     },
     "metadata": {},
     "execution_count": 4
    }
   ],
   "cell_type": "code",
   "source": [
    "# Risk measures.\n",
    "rms = [SD(), SSD(), CVaR(), CDaR(), Skew()]\n",
    "\n",
    "# Lets say we want to have 50% of all stocks at the end.\n",
    "best = 0.5\n",
    "\n",
    "# Lets use denoised and detoned covariance and correlation types so we can get rid of market forces. We're using the normal covariance as it's not very expensive to compute and we've made it more robust by denoising and detoning.\n",
    "covcor_type = PortCovCor(; ce = CovFull(), denoise = DenoiseFixed(; detone = true))\n",
    "\n",
    "# Filter assets to only have the best ones.\n",
    "assets_best = filter_best(assets, rms, best, covcor_type, covcor_type)"
   ],
   "metadata": {},
   "execution_count": 4
  },
  {
   "cell_type": "markdown",
   "source": [
    "We can see that we end up with the best 11 stocks."
   ],
   "metadata": {}
  },
  {
   "outputs": [
    {
     "output_type": "execute_result",
     "data": {
      "text/plain": "11-element Vector{String}:\n \"AAPL\"\n \"DELL\"\n \"DG\"\n \"INTC\"\n \"LULU\"\n \"MCI\"\n \"MSFT\"\n \"NVDA\"\n \"SBUX\"\n \"SIRI\"\n \"STX\""
     },
     "metadata": {},
     "execution_count": 5
    }
   ],
   "cell_type": "code",
   "source": [
    "assets_best"
   ],
   "metadata": {},
   "execution_count": 5
  },
  {
   "cell_type": "markdown",
   "source": [
    "We can now use fancier optimisations and statistics with the smaller stock universe."
   ],
   "metadata": {}
  },
  {
   "outputs": [],
   "cell_type": "code",
   "source": [
    "hp = HCPortfolio(; prices = prices[Symbol.(assets_best)],\n",
    "                 # Continuous optimiser.\n",
    "                 solvers = Dict(:Clarabel1 => Dict(:solver => Clarabel.Optimizer,\n",
    "                                                   :check_sol => (allow_local = true,\n",
    "                                                                  allow_almost = true),\n",
    "                                                   :params => Dict(\"verbose\" => false))),\n",
    "                 # MIP optimiser for the discrete allocation.\n",
    "                 alloc_solvers = Dict(:HiGHS => Dict(:solver => HiGHS.Optimizer,\n",
    "                                                     :check_sol => (allow_local = true,\n",
    "                                                                    allow_almost = true),\n",
    "                                                     :params => Dict(\"log_to_console\" => false))))\n",
    "\n",
    "covcor_type = PortCovCor(; ce = CorGerber1())\n",
    "mu_type = MuBOP()\n",
    "asset_statistics!(hp; cov_type = covcor_type, cor_type = covcor_type, mu_type = mu_type,\n",
    "                  set_kurt = false, set_skurt = false, set_skew = false, set_sskew = false)\n",
    "cluster_assets!(hp; hclust_opt = HCOpt(; k_method = TwoDiff()))"
   ],
   "metadata": {},
   "execution_count": 6
  },
  {
   "cell_type": "markdown",
   "source": [
    "We'll use the nested clustering optimisation. We will also use the maximum risk adjusted return ratio objective function. We will also allocate the portfolio according to our availabe cash and the latest prices."
   ],
   "metadata": {}
  },
  {
   "outputs": [
    {
     "name": "stdout",
     "output_type": "stream",
     "text": [
      "┌─────────┬──────────┐\n",
      "│ tickers │  weights │\n",
      "│  String │  Float64 │\n",
      "├─────────┼──────────┤\n",
      "│    AAPL │    0.0 % │\n",
      "│    DELL │    0.0 % │\n",
      "│      DG │   1.25 % │\n",
      "│    INTC │ 41.064 % │\n",
      "│    LULU │    0.0 % │\n",
      "│     MCI │    0.0 % │\n",
      "│    MSFT │    0.0 % │\n",
      "│    NVDA │    0.0 % │\n",
      "│    SBUX │    0.0 % │\n",
      "│    SIRI │ 57.685 % │\n",
      "│     STX │    0.0 % │\n",
      "└─────────┴──────────┘\n",
      "┌─────────┬────────┬─────────┬─────────┬──────────┐\n",
      "│ tickers │ shares │   price │    cost │  weights │\n",
      "│  String │  Int64 │ Float64 │ Float64 │  Float64 │\n",
      "├─────────┼────────┼─────────┼─────────┼──────────┤\n",
      "│    AAPL │      0 │ 128.719 │     0.0 │    0.0 % │\n",
      "│    DELL │      0 │ 38.6021 │     0.0 │    0.0 % │\n",
      "│      DG │      0 │ 238.623 │     0.0 │    0.0 % │\n",
      "│    INTC │     49 │ 25.4859 │ 1248.81 │ 41.627 % │\n",
      "│    LULU │      0 │  320.38 │     0.0 │    0.0 % │\n",
      "│     MCI │      0 │ 12.2062 │     0.0 │    0.0 % │\n",
      "│    MSFT │      0 │  236.42 │     0.0 │    0.0 % │\n",
      "│    NVDA │      0 │ 14.6044 │     0.0 │    0.0 % │\n",
      "│    SBUX │      0 │ 95.2773 │     0.0 │    0.0 % │\n",
      "│    SIRI │     31 │ 56.2939 │ 1745.11 │  58.17 % │\n",
      "│     STX │      0 │ 49.4078 │     0.0 │    0.0 % │\n",
      "└─────────┴────────┴─────────┴─────────┴──────────┘\n"
     ]
    }
   ],
   "cell_type": "code",
   "source": [
    "w = optimise!(hp; rm = RLDaR(),\n",
    "              type = NCO(;\n",
    "                         # Risk adjusted return ratio objective function.\n",
    "                         opt_kwargs = (; obj = Sharpe(; rf = 3.5 / 100 / 252))))\n",
    "\n",
    "# Say we have 3000 dollars at our disposal to allocate the portfolio\n",
    "wa = allocate!(hp, :NCO; investment = 3000)\n",
    "\n",
    "pretty_table(w; formatters = fmt1)\n",
    "pretty_table(wa; formatters = fmt2)"
   ],
   "metadata": {},
   "execution_count": 7
  },
  {
   "cell_type": "markdown",
   "source": [
    "However, we can do one better, we can take the worst performing stocks as well and short them. Since we're starting from so few stocks we'll adjust the best percentage to only take the best 30% after all filters."
   ],
   "metadata": {}
  },
  {
   "outputs": [
    {
     "output_type": "execute_result",
     "data": {
      "text/plain": "filter_worst (generic function with 1 method)"
     },
     "metadata": {},
     "execution_count": 8
    }
   ],
   "cell_type": "code",
   "source": [
    "function filter_worst(assets, rms, best, cov_type, cor_type)\n",
    "    assets_worst = copy(assets)\n",
    "    # Compute the bottom percentile we need to remove after each iteration.\n",
    "    q = percentile_after_n(best, length(rms))\n",
    "    # Loop over all risk measures.\n",
    "    for rm ∈ rms\n",
    "        hp = HCPortfolio(; prices = prices[Symbol.(assets_worst)])\n",
    "        asset_statistics!(hp; cov_type = covcor_type, cor_type = covcor_type,\n",
    "                          set_kurt = false, set_skurt = false, set_mu = false,\n",
    "                          set_skew = isa(rm, Skew) ? true : false, set_sskew = false)\n",
    "        cluster_assets!(hp; hclust_opt = HCOpt(; k_method = StdSilhouette()))\n",
    "        w = optimise!(hp; type = HERC(), rm = rm)\n",
    "\n",
    "        if isempty(w)\n",
    "            continue\n",
    "        end\n",
    "\n",
    "        w = w.weights\n",
    "\n",
    "        # Only take the stocks below the (1-q)'th quantile at each step.\n",
    "        qidx = w .<= quantile(w, 1 - q)\n",
    "        assets_worst = assets_worst[qidx]\n",
    "    end\n",
    "    return assets_worst\n",
    "end"
   ],
   "metadata": {},
   "execution_count": 8
  },
  {
   "cell_type": "markdown",
   "source": [
    "Now we can define the parameters for our filtering procedures."
   ],
   "metadata": {}
  },
  {
   "outputs": [
    {
     "output_type": "execute_result",
     "data": {
      "text/plain": "11-element Vector{String}:\n \"DG\"\n \"MARA\"\n \"MCI\"\n \"MSFT\"\n \"NVDA\"\n \"SBUX\"\n \"TSLA\"\n \"NVAX\"\n \"PARA\"\n \"SAVE\"\n \"TLRY\""
     },
     "metadata": {},
     "execution_count": 9
    }
   ],
   "cell_type": "code",
   "source": [
    "# Risk measures.\n",
    "rms = [SD(), SSD(), CVaR(), CDaR(), Skew()]\n",
    "\n",
    "# Lets say we want to have 50% of all stocks at the end, 30% of the best, and 20% of the worst.\n",
    "best = 0.3\n",
    "worst = 0.2\n",
    "\n",
    "# Lets use denoised and detoned covariance and correlation types so we can get rid of market forces. We're using the normal covariance as it's not very expensive to compute and we've made it more robust by denoising and detoning.\n",
    "covcor_type = PortCovCor(; ce = CovFull(), denoise = DenoiseFixed(; detone = true))\n",
    "\n",
    "# Filter assets to only have the best ones.\n",
    "assets_best = filter_best(assets, rms, best, covcor_type, covcor_type)\n",
    "\n",
    "# Filter assets to only have the worst ones.\n",
    "assets_worst = filter_worst(assets, rms, worst, covcor_type, covcor_type)\n",
    "\n",
    "# Lets join the best and worst tickers into a single vector.\n",
    "assets_best_worst = union(assets_best, assets_worst)"
   ],
   "metadata": {},
   "execution_count": 9
  },
  {
   "cell_type": "markdown",
   "source": [
    "This time we'll make a market neutral portfolio using the NCO optimisation type."
   ],
   "metadata": {}
  },
  {
   "outputs": [],
   "cell_type": "code",
   "source": [
    "hp = HCPortfolio(; prices = prices[Symbol.(assets_best_worst)],\n",
    "                 # Continuous optimiser.\n",
    "                 solvers = Dict(:Clarabel1 => Dict(:solver => Clarabel.Optimizer,\n",
    "                                                   :check_sol => (allow_local = true,\n",
    "                                                                  allow_almost = true),\n",
    "                                                   :params => Dict(\"verbose\" => false))),\n",
    "                 # MIP optimiser for the discrete allocation.\n",
    "                 alloc_solvers = Dict(:HiGHS => Dict(:solver => HiGHS.Optimizer,\n",
    "                                                     :check_sol => (allow_local = true,\n",
    "                                                                    allow_almost = true),\n",
    "                                                     :params => Dict(\"log_to_console\" => false))))\n",
    "\n",
    "covcor_type = PortCovCor(; ce = CorGerber1())\n",
    "mu_type = MuBOP()\n",
    "asset_statistics!(hp; cov_type = covcor_type, cor_type = covcor_type, mu_type = mu_type,\n",
    "                  set_kurt = false, set_skurt = false, set_skew = false, set_sskew = false)\n",
    "cluster_assets!(hp; hclust_opt = hclust_opt = HCOpt(; k_method = TwoDiff()))"
   ],
   "metadata": {},
   "execution_count": 10
  },
  {
   "cell_type": "markdown",
   "source": [
    "For this we need to use the max ret objective and set the absolue of the sum of the short weights to 1, as well as the sum of the long weights to 1."
   ],
   "metadata": {}
  },
  {
   "outputs": [
    {
     "name": "stdout",
     "output_type": "stream",
     "text": [
      "┌─────────┬──────────┐\n",
      "│ tickers │  weights │\n",
      "│  String │  Float64 │\n",
      "├─────────┼──────────┤\n",
      "│      DG │   -0.0 % │\n",
      "│    MARA │ -3.998 % │\n",
      "│     MCI │   -0.0 % │\n",
      "│    MSFT │ -0.003 % │\n",
      "│    NVDA │  3.997 % │\n",
      "│    SBUX │ -3.994 % │\n",
      "│    TSLA │   -0.0 % │\n",
      "│    NVAX │   -0.0 % │\n",
      "│    PARA │    0.0 % │\n",
      "│    SAVE │    0.0 % │\n",
      "│    TLRY │  3.998 % │\n",
      "└─────────┴──────────┘\n",
      "┌─────────┬────────┬──────────┬──────────┬───────────┐\n",
      "│ tickers │ shares │    price │     cost │   weights │\n",
      "│  String │  Int64 │  Float64 │  Float64 │   Float64 │\n",
      "├─────────┼────────┼──────────┼──────────┼───────────┤\n",
      "│      DG │      0 │ -238.623 │     -0.0 │    -0.0 % │\n",
      "│    MARA │   -431 │    -3.42 │ -1474.02 │ -49.134 % │\n",
      "│     MCI │      0 │ -12.2062 │     -0.0 │    -0.0 % │\n",
      "│    MSFT │      0 │  -236.42 │     -0.0 │    -0.0 % │\n",
      "│    NVDA │    103 │  14.6044 │  1504.25 │  50.142 % │\n",
      "│    SBUX │    -16 │ -95.2773 │ -1524.44 │ -50.815 % │\n",
      "│    TSLA │      0 │  -123.18 │     -0.0 │    -0.0 % │\n",
      "│    NVAX │      0 │   -10.28 │     -0.0 │    -0.0 % │\n",
      "│    PARA │      0 │  16.2832 │      0.0 │     0.0 % │\n",
      "│    SAVE │      0 │   17.628 │      0.0 │     0.0 % │\n",
      "│    TLRY │    556 │     2.69 │  1495.64 │  49.855 % │\n",
      "└─────────┴────────┴──────────┴──────────┴───────────┘\n"
     ]
    }
   ],
   "cell_type": "code",
   "source": [
    "# We need to set w_min and w_max weight constraints of the hierarchical clustering portfolio so the weights can be negative.\n",
    "hp.w_min = -1\n",
    "hp.w_max = 1\n",
    "\n",
    "# The short parameters for the portfolios optimised via NCO.\n",
    "short = true\n",
    "short_u = 1\n",
    "long_u = 1\n",
    "\n",
    "w = optimise!(hp; rm = RLDaR(),\n",
    "              type = NCO(;\n",
    "                         # Allow shorting in the sub portfolios, as well as the synthetic portfolio optimised by NCO.\n",
    "                         # We also set the the values of `short_u` and `long_u` to be equal to 1.\n",
    "                         port_kwargs = (; short = short, short_u = short_u,\n",
    "                                        long_u = long_u),\n",
    "                         # Max return objective.\n",
    "                         opt_kwargs = (; obj = MaxRet())\n",
    "                         #\n",
    "                         )\n",
    "              #\n",
    "              )\n",
    "\n",
    "wa = allocate!(hp, :NCO; investment = 3000, short = short, short_u = short_u,\n",
    "               long_u = long_u)\n",
    "\n",
    "pretty_table(w; formatters = fmt1)\n",
    "pretty_table(wa; formatters = fmt2)"
   ],
   "metadata": {},
   "execution_count": 11
  },
  {
   "cell_type": "markdown",
   "source": [
    "---\n",
    "\n",
    "*This notebook was generated using [Literate.jl](https://github.com/fredrikekre/Literate.jl).*"
   ],
   "metadata": {}
  }
 ],
 "nbformat_minor": 3,
 "metadata": {
  "language_info": {
   "file_extension": ".jl",
   "mimetype": "application/julia",
   "name": "julia",
   "version": "1.11.0"
  },
  "kernelspec": {
   "name": "julia-1.11",
   "display_name": "Julia 1.11.0",
   "language": "julia"
  }
 },
 "nbformat": 4
}
