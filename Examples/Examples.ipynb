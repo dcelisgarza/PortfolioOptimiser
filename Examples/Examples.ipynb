{
 "cells": [
  {
   "cell_type": "markdown",
   "metadata": {},
   "source": [
    "# Mean Risk Optimisation\n",
    "## Loading Packages"
   ]
  },
  {
   "cell_type": "code",
   "execution_count": 1,
   "metadata": {},
   "outputs": [],
   "source": [
    "using PortfolioOptimiser, TimeSeries, DataFrames, CSV, Clarabel"
   ]
  },
  {
   "cell_type": "markdown",
   "metadata": {},
   "source": [
    "## Loading sample data"
   ]
  },
  {
   "cell_type": "code",
   "execution_count": 9,
   "metadata": {},
   "outputs": [
    {
     "data": {
      "text/html": [
       "<div><div style = \"float: left;\"><span>5×21 DataFrame</span></div><div style = \"clear: both;\"></div></div><div class = \"data-frame\" style = \"overflow-x: scroll;\"><table class = \"data-frame\" style = \"margin-bottom: 6px;\"><thead><tr class = \"header\"><th class = \"rowNumber\" style = \"font-weight: bold; text-align: right;\">Row</th><th style = \"text-align: left;\">timestamp</th><th style = \"text-align: left;\">GOOG</th><th style = \"text-align: left;\">AAPL</th><th style = \"text-align: left;\">FB</th><th style = \"text-align: left;\">BABA</th><th style = \"text-align: left;\">AMZN</th><th style = \"text-align: left;\">GE</th><th style = \"text-align: left;\">AMD</th><th style = \"text-align: left;\">WMT</th><th style = \"text-align: left;\">BAC</th><th style = \"text-align: left;\">GM</th><th style = \"text-align: left;\">T</th><th style = \"text-align: left;\">UAA</th><th style = \"text-align: left;\">SHLD</th><th style = \"text-align: left;\">XOM</th><th style = \"text-align: left;\">RRC</th><th style = \"text-align: left;\">BBY</th><th style = \"text-align: left;\">MA</th><th style = \"text-align: left;\">PFE</th><th style = \"text-align: left;\">JPM</th><th style = \"text-align: left;\">SBUX</th></tr><tr class = \"subheader headerLastRow\"><th class = \"rowNumber\" style = \"font-weight: bold; text-align: right;\"></th><th title = \"Date\" style = \"text-align: left;\">Date</th><th title = \"Float64\" style = \"text-align: left;\">Float64</th><th title = \"Float64\" style = \"text-align: left;\">Float64</th><th title = \"Float64\" style = \"text-align: left;\">Float64</th><th title = \"Float64\" style = \"text-align: left;\">Float64</th><th title = \"Float64\" style = \"text-align: left;\">Float64</th><th title = \"Float64\" style = \"text-align: left;\">Float64</th><th title = \"Float64\" style = \"text-align: left;\">Float64</th><th title = \"Float64\" style = \"text-align: left;\">Float64</th><th title = \"Float64\" style = \"text-align: left;\">Float64</th><th title = \"Float64\" style = \"text-align: left;\">Float64</th><th title = \"Float64\" style = \"text-align: left;\">Float64</th><th title = \"Float64\" style = \"text-align: left;\">Float64</th><th title = \"Float64\" style = \"text-align: left;\">Float64</th><th title = \"Float64\" style = \"text-align: left;\">Float64</th><th title = \"Float64\" style = \"text-align: left;\">Float64</th><th title = \"Float64\" style = \"text-align: left;\">Float64</th><th title = \"Float64\" style = \"text-align: left;\">Float64</th><th title = \"Float64\" style = \"text-align: left;\">Float64</th><th title = \"Float64\" style = \"text-align: left;\">Float64</th><th title = \"Float64\" style = \"text-align: left;\">Float64</th></tr></thead><tbody><tr><td class = \"rowNumber\" style = \"font-weight: bold; text-align: right;\">1</td><td style = \"text-align: left;\">2014-09-22</td><td style = \"text-align: right;\">-0.0146122</td><td style = \"text-align: right;\">0.000990734</td><td style = \"text-align: right;\">-0.0142472</td><td style = \"text-align: right;\">-0.042603</td><td style = \"text-align: right;\">-0.0205844</td><td style = \"text-align: right;\">-0.00798774</td><td style = \"text-align: right;\">-0.0131234</td><td style = \"text-align: right;\">-0.00689774</td><td style = \"text-align: right;\">0.0047195</td><td style = \"text-align: right;\">-0.014732</td><td style = \"text-align: right;\">0.000845735</td><td style = \"text-align: right;\">-0.0283585</td><td style = \"text-align: right;\">-0.0101156</td><td style = \"text-align: right;\">-0.0059719</td><td style = \"text-align: right;\">-0.0181691</td><td style = \"text-align: right;\">-0.02716</td><td style = \"text-align: right;\">-0.0144927</td><td style = \"text-align: right;\">-0.00723714</td><td style = \"text-align: right;\">-0.00327289</td><td style = \"text-align: right;\">-0.0193242</td></tr><tr><td class = \"rowNumber\" style = \"font-weight: bold; text-align: right;\">2</td><td style = \"text-align: left;\">2014-09-23</td><td style = \"text-align: right;\">-0.0106236</td><td style = \"text-align: right;\">0.0156342</td><td style = \"text-align: right;\">0.019401</td><td style = \"text-align: right;\">-0.0302592</td><td style = \"text-align: right;\">-0.00268103</td><td style = \"text-align: right;\">-0.00230073</td><td style = \"text-align: right;\">-0.018617</td><td style = \"text-align: right;\">-0.00930391</td><td style = \"text-align: right;\">0.00117438</td><td style = \"text-align: right;\">-0.00657874</td><td style = \"text-align: right;\">-0.00676033</td><td style = \"text-align: right;\">0.00616814</td><td style = \"text-align: right;\">0.0102189</td><td style = \"text-align: right;\">-0.00528286</td><td style = \"text-align: right;\">-0.00384323</td><td style = \"text-align: right;\">-0.00920662</td><td style = \"text-align: right;\">-0.00853472</td><td style = \"text-align: right;\">-0.00430752</td><td style = \"text-align: right;\">0.000492726</td><td style = \"text-align: right;\">-0.00857916</td></tr><tr><td class = \"rowNumber\" style = \"font-weight: bold; text-align: right;\">3</td><td style = \"text-align: left;\">2014-09-24</td><td style = \"text-align: right;\">0.0118046</td><td style = \"text-align: right;\">-0.00867105</td><td style = \"text-align: right;\">0.00319326</td><td style = \"text-align: right;\">0.0390043</td><td style = \"text-align: right;\">0.0141519</td><td style = \"text-align: right;\">-0.00345899</td><td style = \"text-align: right;\">0.00271003</td><td style = \"text-align: right;\">0.0195765</td><td style = \"text-align: right;\">0.00762483</td><td style = \"text-align: right;\">0.012944</td><td style = \"text-align: right;\">0.00397038</td><td style = \"text-align: right;\">0.0269139</td><td style = \"text-align: right;\">-0.0458815</td><td style = \"text-align: right;\">-0.00218697</td><td style = \"text-align: right;\">-0.0148616</td><td style = \"text-align: right;\">0.0188848</td><td style = \"text-align: right;\">0.0203943</td><td style = \"text-align: right;\">0.00865238</td><td style = \"text-align: right;\">0.0113225</td><td style = \"text-align: right;\">0.0183884</td></tr><tr><td class = \"rowNumber\" style = \"font-weight: bold; text-align: right;\">4</td><td style = \"text-align: left;\">2014-09-25</td><td style = \"text-align: right;\">-0.0219902</td><td style = \"text-align: right;\">-0.0381327</td><td style = \"text-align: right;\">-0.0168067</td><td style = \"text-align: right;\">-0.018218</td><td style = \"text-align: right;\">-0.0191341</td><td style = \"text-align: right;\">-0.0146548</td><td style = \"text-align: right;\">-0.0189189</td><td style = \"text-align: right;\">-0.0124545</td><td style = \"text-align: right;\">-0.0192082</td><td style = \"text-align: right;\">-0.0231799</td><td style = \"text-align: right;\">-0.0090394</td><td style = \"text-align: right;\">-0.0164531</td><td style = \"text-align: right;\">-0.0283983</td><td style = \"text-align: right;\">-0.0163845</td><td style = \"text-align: right;\">-0.0236437</td><td style = \"text-align: right;\">-0.021477</td><td style = \"text-align: right;\">-0.0302399</td><td style = \"text-align: right;\">-0.0108875</td><td style = \"text-align: right;\">-0.0240143</td><td style = \"text-align: right;\">-0.0159322</td></tr><tr><td class = \"rowNumber\" style = \"font-weight: bold; text-align: right;\">5</td><td style = \"text-align: left;\">2014-09-26</td><td style = \"text-align: right;\">0.0035475</td><td style = \"text-align: right;\">0.0294266</td><td style = \"text-align: right;\">0.0203315</td><td style = \"text-align: right;\">0.017319</td><td style = \"text-align: right;\">0.00397601</td><td style = \"text-align: right;\">0.00313095</td><td style = \"text-align: right;\">-0.00826446</td><td style = \"text-align: right;\">0.00486075</td><td style = \"text-align: right;\">0.0106821</td><td style = \"text-align: right;\">0.00912671</td><td style = \"text-align: right;\">0.00570092</td><td style = \"text-align: right;\">0.0336047</td><td style = \"text-align: right;\">-0.0315667</td><td style = \"text-align: right;\">0.0125198</td><td style = \"text-align: right;\">0.00579415</td><td style = \"text-align: right;\">-0.00962121</td><td style = \"text-align: right;\">0.00455039</td><td style = \"text-align: right;\">-0.00867243</td><td style = \"text-align: right;\">0.00681621</td><td style = \"text-align: right;\">0.0141663</td></tr></tbody></table></div>"
      ],
      "text/latex": [
       "\\begin{tabular}{r|cccccccc}\n",
       "\t& timestamp & GOOG & AAPL & FB & BABA & AMZN & GE & \\\\\n",
       "\t\\hline\n",
       "\t& Date & Float64 & Float64 & Float64 & Float64 & Float64 & Float64 & \\\\\n",
       "\t\\hline\n",
       "\t1 & 2014-09-22 & -0.0146122 & 0.000990734 & -0.0142472 & -0.042603 & -0.0205844 & -0.00798774 & $\\dots$ \\\\\n",
       "\t2 & 2014-09-23 & -0.0106236 & 0.0156342 & 0.019401 & -0.0302592 & -0.00268103 & -0.00230073 & $\\dots$ \\\\\n",
       "\t3 & 2014-09-24 & 0.0118046 & -0.00867105 & 0.00319326 & 0.0390043 & 0.0141519 & -0.00345899 & $\\dots$ \\\\\n",
       "\t4 & 2014-09-25 & -0.0219902 & -0.0381327 & -0.0168067 & -0.018218 & -0.0191341 & -0.0146548 & $\\dots$ \\\\\n",
       "\t5 & 2014-09-26 & 0.0035475 & 0.0294266 & 0.0203315 & 0.017319 & 0.00397601 & 0.00313095 & $\\dots$ \\\\\n",
       "\\end{tabular}\n"
      ],
      "text/plain": [
       "\u001b[1m5×21 DataFrame\u001b[0m\n",
       "\u001b[1m Row \u001b[0m│\u001b[1m timestamp  \u001b[0m\u001b[1m GOOG       \u001b[0m\u001b[1m AAPL         \u001b[0m\u001b[1m FB          \u001b[0m\u001b[1m BABA       \u001b[0m\u001b[1m AMZN    \u001b[0m ⋯\n",
       "     │\u001b[90m Date       \u001b[0m\u001b[90m Float64    \u001b[0m\u001b[90m Float64      \u001b[0m\u001b[90m Float64     \u001b[0m\u001b[90m Float64    \u001b[0m\u001b[90m Float64 \u001b[0m ⋯\n",
       "─────┼──────────────────────────────────────────────────────────────────────────\n",
       "   1 │ 2014-09-22  -0.0146122   0.000990734  -0.0142472   -0.042603   -0.02058 ⋯\n",
       "   2 │ 2014-09-23  -0.0106236   0.0156342     0.019401    -0.0302592  -0.00268\n",
       "   3 │ 2014-09-24   0.0118046  -0.00867105    0.00319326   0.0390043   0.01415\n",
       "   4 │ 2014-09-25  -0.0219902  -0.0381327    -0.0168067   -0.018218   -0.01913\n",
       "   5 │ 2014-09-26   0.0035475   0.0294266     0.0203315    0.017319    0.00397 ⋯\n",
       "\u001b[36m                                                              16 columns omitted\u001b[0m"
      ]
     },
     "metadata": {},
     "output_type": "display_data"
    }
   ],
   "source": [
    "# Reading the data.\n",
    "A = TimeArray(CSV.File(\"../test/assets/stock_prices.csv\"); timestamp=:date)\n",
    "# Computing returns.\n",
    "Y = percentchange(A)\n",
    "# Turning into a dataframe and rop missing values.\n",
    "returns = dropmissing!(DataFrame(Y))\n",
    "display(returns[1:5, :])"
   ]
  },
  {
   "cell_type": "markdown",
   "metadata": {},
   "source": [
    "## Minimal Working Example"
   ]
  },
  {
   "cell_type": "code",
   "execution_count": 14,
   "metadata": {},
   "outputs": [],
   "source": [
    "# We instantiate the portfolio instance.\n",
    "portfolio = Portfolio(;\n",
    "    # Returns dataframe\n",
    "    returns = returns,\n",
    "    # Solvers is a Dictionary.\n",
    "    solvers = Dict(\n",
    "        # We will use the Clarabel.jl optimiser. In this case we use a dictionary\n",
    "        # for the value, but we can also use named tuples, all we need are key-value\n",
    "        # pairs.\n",
    "        :Clarabel => Dict(\n",
    "            # :solver key must contain the optimiser structure.\n",
    "            :solver => Clarabel.Optimizer,\n",
    "            # :params key is optional, but if it is present, it defines solver-specific\n",
    "            # attributes/configurations. This often needs to be a dictionary as the \n",
    "            # solver attributes are usually strings.\n",
    "            :params => Dict(\"verbose\" => false, \"max_step_fraction\" => 0.75),\n",
    "        ),\n",
    "    ),\n",
    ")"
   ]
  },
  {
   "cell_type": "markdown",
   "metadata": {},
   "source": [
    "Before we optimise we need to compute some statistics. This function has a *ton* of keyword arguments for everything you'd like to do. See the docs for more."
   ]
  },
  {
   "cell_type": "code",
   "execution_count": 15,
   "metadata": {},
   "outputs": [],
   "source": [
    "asset_statistics!(portfolio)"
   ]
  },
  {
   "cell_type": "markdown",
   "metadata": {},
   "source": [
    "We can then optimise our portfolio."
   ]
  },
  {
   "cell_type": "code",
   "execution_count": 13,
   "metadata": {},
   "outputs": [
    {
     "data": {
      "text/html": [
       "<div><div style = \"float: left;\"><span>20×2 DataFrame</span></div><div style = \"clear: both;\"></div></div><div class = \"data-frame\" style = \"overflow-x: scroll;\"><table class = \"data-frame\" style = \"margin-bottom: 6px;\"><thead><tr class = \"header\"><th class = \"rowNumber\" style = \"font-weight: bold; text-align: right;\">Row</th><th style = \"text-align: left;\">tickers</th><th style = \"text-align: left;\">weights</th></tr><tr class = \"subheader headerLastRow\"><th class = \"rowNumber\" style = \"font-weight: bold; text-align: right;\"></th><th title = \"String\" style = \"text-align: left;\">String</th><th title = \"Float64\" style = \"text-align: left;\">Float64</th></tr></thead><tbody><tr><td class = \"rowNumber\" style = \"font-weight: bold; text-align: right;\">1</td><td style = \"text-align: left;\">GOOG</td><td style = \"text-align: right;\">0.0325331</td></tr><tr><td class = \"rowNumber\" style = \"font-weight: bold; text-align: right;\">2</td><td style = \"text-align: left;\">AAPL</td><td style = \"text-align: right;\">0.0753982</td></tr><tr><td class = \"rowNumber\" style = \"font-weight: bold; text-align: right;\">3</td><td style = \"text-align: left;\">FB</td><td style = \"text-align: right;\">0.0525912</td></tr><tr><td class = \"rowNumber\" style = \"font-weight: bold; text-align: right;\">4</td><td style = \"text-align: left;\">BABA</td><td style = \"text-align: right;\">0.0338242</td></tr><tr><td class = \"rowNumber\" style = \"font-weight: bold; text-align: right;\">5</td><td style = \"text-align: left;\">AMZN</td><td style = \"text-align: right;\">0.0259076</td></tr><tr><td class = \"rowNumber\" style = \"font-weight: bold; text-align: right;\">6</td><td style = \"text-align: left;\">GE</td><td style = \"text-align: right;\">0.0661884</td></tr><tr><td class = \"rowNumber\" style = \"font-weight: bold; text-align: right;\">7</td><td style = \"text-align: left;\">AMD</td><td style = \"text-align: right;\">0.0159081</td></tr><tr><td class = \"rowNumber\" style = \"font-weight: bold; text-align: right;\">8</td><td style = \"text-align: left;\">WMT</td><td style = \"text-align: right;\">0.0799032</td></tr><tr><td class = \"rowNumber\" style = \"font-weight: bold; text-align: right;\">9</td><td style = \"text-align: left;\">BAC</td><td style = \"text-align: right;\">0.0305654</td></tr><tr><td class = \"rowNumber\" style = \"font-weight: bold; text-align: right;\">10</td><td style = \"text-align: left;\">GM</td><td style = \"text-align: right;\">0.0556263</td></tr><tr><td class = \"rowNumber\" style = \"font-weight: bold; text-align: right;\">11</td><td style = \"text-align: left;\">T</td><td style = \"text-align: right;\">0.0924005</td></tr><tr><td class = \"rowNumber\" style = \"font-weight: bold; text-align: right;\">12</td><td style = \"text-align: left;\">UAA</td><td style = \"text-align: right;\">0.040045</td></tr><tr><td class = \"rowNumber\" style = \"font-weight: bold; text-align: right;\">13</td><td style = \"text-align: left;\">SHLD</td><td style = \"text-align: right;\">0.014648</td></tr><tr><td class = \"rowNumber\" style = \"font-weight: bold; text-align: right;\">14</td><td style = \"text-align: left;\">XOM</td><td style = \"text-align: right;\">0.0423849</td></tr><tr><td class = \"rowNumber\" style = \"font-weight: bold; text-align: right;\">15</td><td style = \"text-align: left;\">RRC</td><td style = \"text-align: right;\">0.0347866</td></tr><tr><td class = \"rowNumber\" style = \"font-weight: bold; text-align: right;\">16</td><td style = \"text-align: left;\">BBY</td><td style = \"text-align: right;\">0.0454493</td></tr><tr><td class = \"rowNumber\" style = \"font-weight: bold; text-align: right;\">17</td><td style = \"text-align: left;\">MA</td><td style = \"text-align: right;\">0.0671355</td></tr><tr><td class = \"rowNumber\" style = \"font-weight: bold; text-align: right;\">18</td><td style = \"text-align: left;\">PFE</td><td style = \"text-align: right;\">0.0612876</td></tr><tr><td class = \"rowNumber\" style = \"font-weight: bold; text-align: right;\">19</td><td style = \"text-align: left;\">JPM</td><td style = \"text-align: right;\">0.0629256</td></tr><tr><td class = \"rowNumber\" style = \"font-weight: bold; text-align: right;\">20</td><td style = \"text-align: left;\">SBUX</td><td style = \"text-align: right;\">0.0704913</td></tr></tbody></table></div>"
      ],
      "text/latex": [
       "\\begin{tabular}{r|cc}\n",
       "\t& tickers & weights\\\\\n",
       "\t\\hline\n",
       "\t& String & Float64\\\\\n",
       "\t\\hline\n",
       "\t1 & GOOG & 0.0325331 \\\\\n",
       "\t2 & AAPL & 0.0753982 \\\\\n",
       "\t3 & FB & 0.0525912 \\\\\n",
       "\t4 & BABA & 0.0338242 \\\\\n",
       "\t5 & AMZN & 0.0259076 \\\\\n",
       "\t6 & GE & 0.0661884 \\\\\n",
       "\t7 & AMD & 0.0159081 \\\\\n",
       "\t8 & WMT & 0.0799032 \\\\\n",
       "\t9 & BAC & 0.0305654 \\\\\n",
       "\t10 & GM & 0.0556263 \\\\\n",
       "\t11 & T & 0.0924005 \\\\\n",
       "\t12 & UAA & 0.040045 \\\\\n",
       "\t13 & SHLD & 0.014648 \\\\\n",
       "\t14 & XOM & 0.0423849 \\\\\n",
       "\t15 & RRC & 0.0347866 \\\\\n",
       "\t16 & BBY & 0.0454493 \\\\\n",
       "\t17 & MA & 0.0671355 \\\\\n",
       "\t18 & PFE & 0.0612876 \\\\\n",
       "\t19 & JPM & 0.0629256 \\\\\n",
       "\t20 & SBUX & 0.0704913 \\\\\n",
       "\\end{tabular}\n"
      ],
      "text/plain": [
       "\u001b[1m20×2 DataFrame\u001b[0m\n",
       "\u001b[1m Row \u001b[0m│\u001b[1m tickers \u001b[0m\u001b[1m weights   \u001b[0m\n",
       "     │\u001b[90m String  \u001b[0m\u001b[90m Float64   \u001b[0m\n",
       "─────┼────────────────────\n",
       "   1 │ GOOG     0.0325331\n",
       "   2 │ AAPL     0.0753982\n",
       "   3 │ FB       0.0525912\n",
       "   4 │ BABA     0.0338242\n",
       "   5 │ AMZN     0.0259076\n",
       "   6 │ GE       0.0661884\n",
       "   7 │ AMD      0.0159081\n",
       "   8 │ WMT      0.0799032\n",
       "  ⋮  │    ⋮         ⋮\n",
       "  14 │ XOM      0.0423849\n",
       "  15 │ RRC      0.0347866\n",
       "  16 │ BBY      0.0454493\n",
       "  17 │ MA       0.0671355\n",
       "  18 │ PFE      0.0612876\n",
       "  19 │ JPM      0.0629256\n",
       "  20 │ SBUX     0.0704913\n",
       "\u001b[36m            5 rows omitted\u001b[0m"
      ]
     },
     "metadata": {},
     "output_type": "display_data"
    }
   ],
   "source": [
    "w = opt_port!(portfolio)"
   ]
  }
 ],
 "metadata": {
  "kernelspec": {
   "display_name": "Julia 1.9.4",
   "language": "julia",
   "name": "julia-1.9"
  },
  "language_info": {
   "file_extension": ".jl",
   "mimetype": "application/julia",
   "name": "julia",
   "version": "1.9.4"
  }
 },
 "nbformat": 4,
 "nbformat_minor": 2
}
